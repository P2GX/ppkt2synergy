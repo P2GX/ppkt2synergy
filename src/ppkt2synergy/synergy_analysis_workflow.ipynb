{
 "cells": [
  {
   "cell_type": "markdown",
   "id": "39b7ffd0",
   "metadata": {},
   "source": [
    "# HPO Synergy Analysis Workflow\n",
    "\n",
    "This notebook demonstrates a complete workflow for analyzing phenopacket data using the `ppkt2synergy` package. It includes steps for loading data, generating HPO term matrices and binary disease targets, and performing synergy analyses, including visualization of the results.\n",
    "\n",
    "---\n",
    "\n",
    "## Install Dependencies\n",
    "\n",
    "To get started, ensure you have the required libraries installed. Run the following command in your terminal or command prompt to install `ppkt2synergy` and `gpsea`:\n",
    "\n",
    "```bash\n",
    "pip install ppkt2synergy gpsea"
   ]
  },
  {
   "cell_type": "markdown",
   "id": "d7554ebf",
   "metadata": {},
   "source": [
    "## Import Libraries\n",
    "Once the dependencies are installed, import the necessary libraries to begin your analysis:"
   ]
  },
  {
   "cell_type": "code",
   "execution_count": 1,
   "id": "2bf9290d",
   "metadata": {},
   "outputs": [],
   "source": [
    "from ppkt2synergy import CohortDataLoader, PhenopacketMatrixProcessor,PairwiseSynergyAnalyzer\n",
    "from gpsea.model import VariantEffect\n",
    "import pandas as pd"
   ]
  },
  {
   "cell_type": "markdown",
   "id": "0ba1077d",
   "metadata": {},
   "source": [
    "### **Synergy Analysis Between HPO Terms and Targets in a Single Cohort**\n",
    "\n",
    "This section demonstrates how to perform synergy analysis between HPO terms and target variables (e.g., disease status, sex, or variant effects) within a single cohort. The analysis helps identify synergistic relationships where combinations of phenotypic features are more informative of the target than individual terms alone.\n",
    "\n",
    "---"
   ]
  },
  {
   "cell_type": "markdown",
   "id": "07bd89bf",
   "metadata": {},
   "source": [
    "##### **Loading Data and Preparing HPO Matrices**"
   ]
  },
  {
   "cell_type": "code",
   "execution_count": 2,
   "id": "80f47a14",
   "metadata": {},
   "outputs": [
    {
     "name": "stdout",
     "output_type": "stream",
     "text": [
      "Individuals Processed: 100%|██████████| 144/144 [00:01<00:00, 90.86 individuals/s]\n"
     ]
    }
   ],
   "source": [
    "cohort_name = \"FBN1\"\n",
    "mane_tx_id = 'NM_000138.5'\n",
    "varsiant_effect_type = VariantEffect.MISSENSE_VARIANT\n",
    "phenopackets = CohortDataLoader.from_ppkt_store(cohort_name=cohort_name)\n",
    "hpo_matrix, target_matrix= PhenopacketMatrixProcessor.prepare_hpo_data(\n",
    "    variant_effect_type=varsiant_effect_type,\n",
    "    mane_tx_id=mane_tx_id, \n",
    "    phenopackets=phenopackets, \n",
    "    threshold=0, \n",
    "    mode=None, \n",
    "    use_label=True,\n",
    "    nan_strategy=None)"
   ]
  },
  {
   "cell_type": "markdown",
   "id": "7b0de2ac",
   "metadata": {},
   "source": [
    "Select a target from following targets:"
   ]
  },
  {
   "cell_type": "code",
   "execution_count": 3,
   "id": "327457fc",
   "metadata": {},
   "outputs": [
    {
     "data": {
      "text/plain": [
       "Index(['Acromicric dysplasia', 'Ectopia lentis, familial', 'Marfan syndrome',\n",
       "       'Stiff skin syndrome', 'Geleophysic dysplasia 2',\n",
       "       'Marfan lipodystrophy syndrome', 'sex', 'missense_variant'],\n",
       "      dtype='object')"
      ]
     },
     "execution_count": 3,
     "metadata": {},
     "output_type": "execute_result"
    }
   ],
   "source": [
    "target_matrix.columns"
   ]
  },
  {
   "cell_type": "markdown",
   "id": "8e0b7dce",
   "metadata": {},
   "source": [
    "##### **Pairwise Synergy Analysis and Ploting**\n",
    "We compute pairwise synergy scores between HPO terms for predicting the target (Acromicric dysplasia) using permutation testing."
   ]
  },
  {
   "cell_type": "code",
   "execution_count": 4,
   "id": "5c90a250",
   "metadata": {},
   "outputs": [
    {
     "data": {
      "application/vnd.plotly.v1+json": {
       "config": {
        "plotlyServerURL": "https://plot.ly"
       },
       "data": [
        {
         "colorbar": {
          "len": 0.8,
          "thickness": 28,
          "title": {
           "text": "Synergy"
          }
         },
         "colorscale": [
          [
           0,
           "rgb(247,251,255)"
          ],
          [
           0.125,
           "rgb(222,235,247)"
          ],
          [
           0.25,
           "rgb(198,219,239)"
          ],
          [
           0.375,
           "rgb(158,202,225)"
          ],
          [
           0.5,
           "rgb(107,174,214)"
          ],
          [
           0.625,
           "rgb(66,146,198)"
          ],
          [
           0.75,
           "rgb(33,113,181)"
          ],
          [
           0.875,
           "rgb(8,81,156)"
          ],
          [
           1,
           "rgb(8,48,107)"
          ]
         ],
         "hoverinfo": "text",
         "hovertext": [
          [
           "",
           "<b>X</b>: High palate<br><b>Y</b>: Tall stature<br><b>Corr</b>: 0.12<br><b>p-val</b>: 0.005000",
           "",
           "",
           "<b>X</b>: Pectus excavatum<br><b>Y</b>: Tall stature<br><b>Corr</b>: 0.13<br><b>p-val</b>: 0.003000",
           "",
           "<b>X</b>: Arachnodactyly<br><b>Y</b>: Tall stature<br><b>Corr</b>: 0.22<br><b>p-val</b>: 0.000000",
           "",
           "<b>X</b>: Aortic root aneurysm<br><b>Y</b>: Tall stature<br><b>Corr</b>: 0.13<br><b>p-val</b>: 0.000000",
           "<b>X</b>: Scoliosis<br><b>Y</b>: Tall stature<br><b>Corr</b>: 0.22<br><b>p-val</b>: 0.000000",
           ""
          ],
          [
           "<b>X</b>: Tall stature<br><b>Y</b>: High palate<br><b>Corr</b>: 0.12<br><b>p-val</b>: 0.005000",
           "",
           "",
           "",
           "",
           "",
           "",
           "<b>X</b>: Disproportionate tall stature<br><b>Y</b>: High palate<br><b>Corr</b>: 0.06<br><b>p-val</b>: 0.055000",
           "<b>X</b>: Aortic root aneurysm<br><b>Y</b>: High palate<br><b>Corr</b>: 0.07<br><b>p-val</b>: 0.006000",
           "",
           "<b>X</b>: Reduced upper to lower segment ratio<br><b>Y</b>: High palate<br><b>Corr</b>: 0.09<br><b>p-val</b>: 0.015000"
          ],
          [
           "",
           "",
           "",
           "",
           "",
           "<b>X</b>: Pectus carinatum<br><b>Y</b>: Dolichocephaly<br><b>Corr</b>: 0.05<br><b>p-val</b>: 0.044000",
           "",
           "",
           "<b>X</b>: Aortic root aneurysm<br><b>Y</b>: Dolichocephaly<br><b>Corr</b>: 0.06<br><b>p-val</b>: 0.049000",
           "",
           ""
          ],
          [
           "",
           "",
           "",
           "",
           "",
           "",
           "<b>X</b>: Arachnodactyly<br><b>Y</b>: Myopia<br><b>Corr</b>: 0.08<br><b>p-val</b>: 0.002000",
           "",
           "",
           "",
           ""
          ],
          [
           "<b>X</b>: Tall stature<br><b>Y</b>: Pectus excavatum<br><b>Corr</b>: 0.13<br><b>p-val</b>: 0.003000",
           "",
           "",
           "",
           "",
           "",
           "",
           "",
           "",
           "",
           ""
          ],
          [
           "",
           "",
           "<b>X</b>: Dolichocephaly<br><b>Y</b>: Pectus carinatum<br><b>Corr</b>: 0.05<br><b>p-val</b>: 0.044000",
           "",
           "",
           "",
           "",
           "",
           "",
           "<b>X</b>: Scoliosis<br><b>Y</b>: Pectus carinatum<br><b>Corr</b>: 0.06<br><b>p-val</b>: 0.006000",
           ""
          ],
          [
           "<b>X</b>: Tall stature<br><b>Y</b>: Arachnodactyly<br><b>Corr</b>: 0.22<br><b>p-val</b>: 0.000000",
           "",
           "",
           "<b>X</b>: Myopia<br><b>Y</b>: Arachnodactyly<br><b>Corr</b>: 0.08<br><b>p-val</b>: 0.002000",
           "",
           "",
           "",
           "",
           "",
           "",
           "<b>X</b>: Reduced upper to lower segment ratio<br><b>Y</b>: Arachnodactyly<br><b>Corr</b>: 0.11<br><b>p-val</b>: 0.007000"
          ],
          [
           "",
           "<b>X</b>: High palate<br><b>Y</b>: Disproportionate tall stature<br><b>Corr</b>: 0.06<br><b>p-val</b>: 0.055000",
           "",
           "",
           "",
           "",
           "",
           "",
           "",
           "",
           ""
          ],
          [
           "<b>X</b>: Tall stature<br><b>Y</b>: Aortic root aneurysm<br><b>Corr</b>: 0.13<br><b>p-val</b>: 0.000000",
           "<b>X</b>: High palate<br><b>Y</b>: Aortic root aneurysm<br><b>Corr</b>: 0.07<br><b>p-val</b>: 0.006000",
           "<b>X</b>: Dolichocephaly<br><b>Y</b>: Aortic root aneurysm<br><b>Corr</b>: 0.06<br><b>p-val</b>: 0.049000",
           "",
           "",
           "",
           "",
           "",
           "",
           "",
           ""
          ],
          [
           "<b>X</b>: Tall stature<br><b>Y</b>: Scoliosis<br><b>Corr</b>: 0.22<br><b>p-val</b>: 0.000000",
           "",
           "",
           "",
           "",
           "<b>X</b>: Pectus carinatum<br><b>Y</b>: Scoliosis<br><b>Corr</b>: 0.06<br><b>p-val</b>: 0.006000",
           "",
           "",
           "",
           "",
           ""
          ],
          [
           "",
           "<b>X</b>: High palate<br><b>Y</b>: Reduced upper to lower segment ratio<br><b>Corr</b>: 0.09<br><b>p-val</b>: 0.015000",
           "",
           "",
           "",
           "",
           "<b>X</b>: Arachnodactyly<br><b>Y</b>: Reduced upper to lower segment ratio<br><b>Corr</b>: 0.11<br><b>p-val</b>: 0.007000",
           "",
           "",
           "",
           ""
          ]
         ],
         "text": [
          [
           "",
           "0.12",
           "",
           "",
           "0.13",
           "",
           "0.22",
           "",
           "0.13",
           "0.22",
           ""
          ],
          [
           "0.12",
           "",
           "",
           "",
           "",
           "",
           "",
           "0.06",
           "0.07",
           "",
           "0.09"
          ],
          [
           "",
           "",
           "",
           "",
           "",
           "0.05",
           "",
           "",
           "0.06",
           "",
           ""
          ],
          [
           "",
           "",
           "",
           "",
           "",
           "",
           "0.08",
           "",
           "",
           "",
           ""
          ],
          [
           "0.13",
           "",
           "",
           "",
           "",
           "",
           "",
           "",
           "",
           "",
           ""
          ],
          [
           "",
           "",
           "0.05",
           "",
           "",
           "",
           "",
           "",
           "",
           "0.06",
           ""
          ],
          [
           "0.22",
           "",
           "",
           "0.08",
           "",
           "",
           "",
           "",
           "",
           "",
           "0.11"
          ],
          [
           "",
           "0.06",
           "",
           "",
           "",
           "",
           "",
           "",
           "",
           "",
           ""
          ],
          [
           "0.13",
           "0.07",
           "0.06",
           "",
           "",
           "",
           "",
           "",
           "",
           "",
           ""
          ],
          [
           "0.22",
           "",
           "",
           "",
           "",
           "0.06",
           "",
           "",
           "",
           "",
           ""
          ],
          [
           "",
           "0.09",
           "",
           "",
           "",
           "",
           "0.11",
           "",
           "",
           "",
           ""
          ]
         ],
         "texttemplate": "<span style='font-size:11px'>%{text}</span>",
         "type": "heatmap",
         "x": [
          "Tall stature",
          "High palate",
          "Dolichocephaly",
          "Myopia",
          "Pectus excavatum",
          "Pectus carinatum",
          "Arachnodactyly",
          "Disproportionate tall stature",
          "Aortic root aneurysm",
          "Scoliosis",
          "Reduced upper to lower segment ratio"
         ],
         "xgap": 1,
         "y": [
          "Tall stature",
          "High palate",
          "Dolichocephaly",
          "Myopia",
          "Pectus excavatum",
          "Pectus carinatum",
          "Arachnodactyly",
          "Disproportionate tall stature",
          "Aortic root aneurysm",
          "Scoliosis",
          "Reduced upper to lower segment ratio"
         ],
         "ygap": 1,
         "z": [
          [
           0,
           0.1169578556949056,
           0,
           0,
           0.12535846265858253,
           0,
           0.22089528579619383,
           0,
           0.1277215190919352,
           0.2181205956816148,
           0
          ],
          [
           0.1169578556949056,
           0,
           0,
           0,
           0,
           0,
           0,
           0.05557708584246061,
           0.0687032567064419,
           0,
           0.08843212634808166
          ],
          [
           0,
           0,
           0,
           0,
           0,
           0.052063185384191274,
           0,
           0,
           0.06133585704818793,
           0,
           0
          ],
          [
           0,
           0,
           0,
           0,
           0,
           0,
           0.07854628678048749,
           0,
           0,
           0,
           0
          ],
          [
           0.12535846265858253,
           0,
           0,
           0,
           0,
           0,
           0,
           0,
           0,
           0,
           0
          ],
          [
           0,
           0,
           0.052063185384191274,
           0,
           0,
           0,
           0,
           0,
           0,
           0.061656411168302706,
           0
          ],
          [
           0.22089528579619383,
           0,
           0,
           0.07854628678048749,
           0,
           0,
           0,
           0,
           0,
           0,
           0.11069053731653739
          ],
          [
           0,
           0.05557708584246061,
           0,
           0,
           0,
           0,
           0,
           0,
           0,
           0,
           0
          ],
          [
           0.1277215190919352,
           0.0687032567064419,
           0.06133585704818793,
           0,
           0,
           0,
           0,
           0,
           0,
           0,
           0
          ],
          [
           0.2181205956816148,
           0,
           0,
           0,
           0,
           0.061656411168302706,
           0,
           0,
           0,
           0,
           0
          ],
          [
           0,
           0.08843212634808166,
           0,
           0,
           0,
           0,
           0.11069053731653739,
           0,
           0,
           0,
           0
          ]
         ],
         "zmax": 0.22089528579619383,
         "zmid": 0,
         "zmin": 0
        }
       ],
       "layout": {
        "height": 1116,
        "plot_bgcolor": "rgba(240,240,240,0.1)",
        "template": {
         "data": {
          "bar": [
           {
            "error_x": {
             "color": "#2a3f5f"
            },
            "error_y": {
             "color": "#2a3f5f"
            },
            "marker": {
             "line": {
              "color": "#E5ECF6",
              "width": 0.5
             },
             "pattern": {
              "fillmode": "overlay",
              "size": 10,
              "solidity": 0.2
             }
            },
            "type": "bar"
           }
          ],
          "barpolar": [
           {
            "marker": {
             "line": {
              "color": "#E5ECF6",
              "width": 0.5
             },
             "pattern": {
              "fillmode": "overlay",
              "size": 10,
              "solidity": 0.2
             }
            },
            "type": "barpolar"
           }
          ],
          "carpet": [
           {
            "aaxis": {
             "endlinecolor": "#2a3f5f",
             "gridcolor": "white",
             "linecolor": "white",
             "minorgridcolor": "white",
             "startlinecolor": "#2a3f5f"
            },
            "baxis": {
             "endlinecolor": "#2a3f5f",
             "gridcolor": "white",
             "linecolor": "white",
             "minorgridcolor": "white",
             "startlinecolor": "#2a3f5f"
            },
            "type": "carpet"
           }
          ],
          "choropleth": [
           {
            "colorbar": {
             "outlinewidth": 0,
             "ticks": ""
            },
            "type": "choropleth"
           }
          ],
          "contour": [
           {
            "colorbar": {
             "outlinewidth": 0,
             "ticks": ""
            },
            "colorscale": [
             [
              0,
              "#0d0887"
             ],
             [
              0.1111111111111111,
              "#46039f"
             ],
             [
              0.2222222222222222,
              "#7201a8"
             ],
             [
              0.3333333333333333,
              "#9c179e"
             ],
             [
              0.4444444444444444,
              "#bd3786"
             ],
             [
              0.5555555555555556,
              "#d8576b"
             ],
             [
              0.6666666666666666,
              "#ed7953"
             ],
             [
              0.7777777777777778,
              "#fb9f3a"
             ],
             [
              0.8888888888888888,
              "#fdca26"
             ],
             [
              1,
              "#f0f921"
             ]
            ],
            "type": "contour"
           }
          ],
          "contourcarpet": [
           {
            "colorbar": {
             "outlinewidth": 0,
             "ticks": ""
            },
            "type": "contourcarpet"
           }
          ],
          "heatmap": [
           {
            "colorbar": {
             "outlinewidth": 0,
             "ticks": ""
            },
            "colorscale": [
             [
              0,
              "#0d0887"
             ],
             [
              0.1111111111111111,
              "#46039f"
             ],
             [
              0.2222222222222222,
              "#7201a8"
             ],
             [
              0.3333333333333333,
              "#9c179e"
             ],
             [
              0.4444444444444444,
              "#bd3786"
             ],
             [
              0.5555555555555556,
              "#d8576b"
             ],
             [
              0.6666666666666666,
              "#ed7953"
             ],
             [
              0.7777777777777778,
              "#fb9f3a"
             ],
             [
              0.8888888888888888,
              "#fdca26"
             ],
             [
              1,
              "#f0f921"
             ]
            ],
            "type": "heatmap"
           }
          ],
          "heatmapgl": [
           {
            "colorbar": {
             "outlinewidth": 0,
             "ticks": ""
            },
            "colorscale": [
             [
              0,
              "#0d0887"
             ],
             [
              0.1111111111111111,
              "#46039f"
             ],
             [
              0.2222222222222222,
              "#7201a8"
             ],
             [
              0.3333333333333333,
              "#9c179e"
             ],
             [
              0.4444444444444444,
              "#bd3786"
             ],
             [
              0.5555555555555556,
              "#d8576b"
             ],
             [
              0.6666666666666666,
              "#ed7953"
             ],
             [
              0.7777777777777778,
              "#fb9f3a"
             ],
             [
              0.8888888888888888,
              "#fdca26"
             ],
             [
              1,
              "#f0f921"
             ]
            ],
            "type": "heatmapgl"
           }
          ],
          "histogram": [
           {
            "marker": {
             "pattern": {
              "fillmode": "overlay",
              "size": 10,
              "solidity": 0.2
             }
            },
            "type": "histogram"
           }
          ],
          "histogram2d": [
           {
            "colorbar": {
             "outlinewidth": 0,
             "ticks": ""
            },
            "colorscale": [
             [
              0,
              "#0d0887"
             ],
             [
              0.1111111111111111,
              "#46039f"
             ],
             [
              0.2222222222222222,
              "#7201a8"
             ],
             [
              0.3333333333333333,
              "#9c179e"
             ],
             [
              0.4444444444444444,
              "#bd3786"
             ],
             [
              0.5555555555555556,
              "#d8576b"
             ],
             [
              0.6666666666666666,
              "#ed7953"
             ],
             [
              0.7777777777777778,
              "#fb9f3a"
             ],
             [
              0.8888888888888888,
              "#fdca26"
             ],
             [
              1,
              "#f0f921"
             ]
            ],
            "type": "histogram2d"
           }
          ],
          "histogram2dcontour": [
           {
            "colorbar": {
             "outlinewidth": 0,
             "ticks": ""
            },
            "colorscale": [
             [
              0,
              "#0d0887"
             ],
             [
              0.1111111111111111,
              "#46039f"
             ],
             [
              0.2222222222222222,
              "#7201a8"
             ],
             [
              0.3333333333333333,
              "#9c179e"
             ],
             [
              0.4444444444444444,
              "#bd3786"
             ],
             [
              0.5555555555555556,
              "#d8576b"
             ],
             [
              0.6666666666666666,
              "#ed7953"
             ],
             [
              0.7777777777777778,
              "#fb9f3a"
             ],
             [
              0.8888888888888888,
              "#fdca26"
             ],
             [
              1,
              "#f0f921"
             ]
            ],
            "type": "histogram2dcontour"
           }
          ],
          "mesh3d": [
           {
            "colorbar": {
             "outlinewidth": 0,
             "ticks": ""
            },
            "type": "mesh3d"
           }
          ],
          "parcoords": [
           {
            "line": {
             "colorbar": {
              "outlinewidth": 0,
              "ticks": ""
             }
            },
            "type": "parcoords"
           }
          ],
          "pie": [
           {
            "automargin": true,
            "type": "pie"
           }
          ],
          "scatter": [
           {
            "fillpattern": {
             "fillmode": "overlay",
             "size": 10,
             "solidity": 0.2
            },
            "type": "scatter"
           }
          ],
          "scatter3d": [
           {
            "line": {
             "colorbar": {
              "outlinewidth": 0,
              "ticks": ""
             }
            },
            "marker": {
             "colorbar": {
              "outlinewidth": 0,
              "ticks": ""
             }
            },
            "type": "scatter3d"
           }
          ],
          "scattercarpet": [
           {
            "marker": {
             "colorbar": {
              "outlinewidth": 0,
              "ticks": ""
             }
            },
            "type": "scattercarpet"
           }
          ],
          "scattergeo": [
           {
            "marker": {
             "colorbar": {
              "outlinewidth": 0,
              "ticks": ""
             }
            },
            "type": "scattergeo"
           }
          ],
          "scattergl": [
           {
            "marker": {
             "colorbar": {
              "outlinewidth": 0,
              "ticks": ""
             }
            },
            "type": "scattergl"
           }
          ],
          "scattermapbox": [
           {
            "marker": {
             "colorbar": {
              "outlinewidth": 0,
              "ticks": ""
             }
            },
            "type": "scattermapbox"
           }
          ],
          "scatterpolar": [
           {
            "marker": {
             "colorbar": {
              "outlinewidth": 0,
              "ticks": ""
             }
            },
            "type": "scatterpolar"
           }
          ],
          "scatterpolargl": [
           {
            "marker": {
             "colorbar": {
              "outlinewidth": 0,
              "ticks": ""
             }
            },
            "type": "scatterpolargl"
           }
          ],
          "scatterternary": [
           {
            "marker": {
             "colorbar": {
              "outlinewidth": 0,
              "ticks": ""
             }
            },
            "type": "scatterternary"
           }
          ],
          "surface": [
           {
            "colorbar": {
             "outlinewidth": 0,
             "ticks": ""
            },
            "colorscale": [
             [
              0,
              "#0d0887"
             ],
             [
              0.1111111111111111,
              "#46039f"
             ],
             [
              0.2222222222222222,
              "#7201a8"
             ],
             [
              0.3333333333333333,
              "#9c179e"
             ],
             [
              0.4444444444444444,
              "#bd3786"
             ],
             [
              0.5555555555555556,
              "#d8576b"
             ],
             [
              0.6666666666666666,
              "#ed7953"
             ],
             [
              0.7777777777777778,
              "#fb9f3a"
             ],
             [
              0.8888888888888888,
              "#fdca26"
             ],
             [
              1,
              "#f0f921"
             ]
            ],
            "type": "surface"
           }
          ],
          "table": [
           {
            "cells": {
             "fill": {
              "color": "#EBF0F8"
             },
             "line": {
              "color": "white"
             }
            },
            "header": {
             "fill": {
              "color": "#C8D4E3"
             },
             "line": {
              "color": "white"
             }
            },
            "type": "table"
           }
          ]
         },
         "layout": {
          "annotationdefaults": {
           "arrowcolor": "#2a3f5f",
           "arrowhead": 0,
           "arrowwidth": 1
          },
          "autotypenumbers": "strict",
          "coloraxis": {
           "colorbar": {
            "outlinewidth": 0,
            "ticks": ""
           }
          },
          "colorscale": {
           "diverging": [
            [
             0,
             "#8e0152"
            ],
            [
             0.1,
             "#c51b7d"
            ],
            [
             0.2,
             "#de77ae"
            ],
            [
             0.3,
             "#f1b6da"
            ],
            [
             0.4,
             "#fde0ef"
            ],
            [
             0.5,
             "#f7f7f7"
            ],
            [
             0.6,
             "#e6f5d0"
            ],
            [
             0.7,
             "#b8e186"
            ],
            [
             0.8,
             "#7fbc41"
            ],
            [
             0.9,
             "#4d9221"
            ],
            [
             1,
             "#276419"
            ]
           ],
           "sequential": [
            [
             0,
             "#0d0887"
            ],
            [
             0.1111111111111111,
             "#46039f"
            ],
            [
             0.2222222222222222,
             "#7201a8"
            ],
            [
             0.3333333333333333,
             "#9c179e"
            ],
            [
             0.4444444444444444,
             "#bd3786"
            ],
            [
             0.5555555555555556,
             "#d8576b"
            ],
            [
             0.6666666666666666,
             "#ed7953"
            ],
            [
             0.7777777777777778,
             "#fb9f3a"
            ],
            [
             0.8888888888888888,
             "#fdca26"
            ],
            [
             1,
             "#f0f921"
            ]
           ],
           "sequentialminus": [
            [
             0,
             "#0d0887"
            ],
            [
             0.1111111111111111,
             "#46039f"
            ],
            [
             0.2222222222222222,
             "#7201a8"
            ],
            [
             0.3333333333333333,
             "#9c179e"
            ],
            [
             0.4444444444444444,
             "#bd3786"
            ],
            [
             0.5555555555555556,
             "#d8576b"
            ],
            [
             0.6666666666666666,
             "#ed7953"
            ],
            [
             0.7777777777777778,
             "#fb9f3a"
            ],
            [
             0.8888888888888888,
             "#fdca26"
            ],
            [
             1,
             "#f0f921"
            ]
           ]
          },
          "colorway": [
           "#636efa",
           "#EF553B",
           "#00cc96",
           "#ab63fa",
           "#FFA15A",
           "#19d3f3",
           "#FF6692",
           "#B6E880",
           "#FF97FF",
           "#FECB52"
          ],
          "font": {
           "color": "#2a3f5f"
          },
          "geo": {
           "bgcolor": "white",
           "lakecolor": "white",
           "landcolor": "#E5ECF6",
           "showlakes": true,
           "showland": true,
           "subunitcolor": "white"
          },
          "hoverlabel": {
           "align": "left"
          },
          "hovermode": "closest",
          "mapbox": {
           "style": "light"
          },
          "paper_bgcolor": "white",
          "plot_bgcolor": "#E5ECF6",
          "polar": {
           "angularaxis": {
            "gridcolor": "white",
            "linecolor": "white",
            "ticks": ""
           },
           "bgcolor": "#E5ECF6",
           "radialaxis": {
            "gridcolor": "white",
            "linecolor": "white",
            "ticks": ""
           }
          },
          "scene": {
           "xaxis": {
            "backgroundcolor": "#E5ECF6",
            "gridcolor": "white",
            "gridwidth": 2,
            "linecolor": "white",
            "showbackground": true,
            "ticks": "",
            "zerolinecolor": "white"
           },
           "yaxis": {
            "backgroundcolor": "#E5ECF6",
            "gridcolor": "white",
            "gridwidth": 2,
            "linecolor": "white",
            "showbackground": true,
            "ticks": "",
            "zerolinecolor": "white"
           },
           "zaxis": {
            "backgroundcolor": "#E5ECF6",
            "gridcolor": "white",
            "gridwidth": 2,
            "linecolor": "white",
            "showbackground": true,
            "ticks": "",
            "zerolinecolor": "white"
           }
          },
          "shapedefaults": {
           "line": {
            "color": "#2a3f5f"
           }
          },
          "ternary": {
           "aaxis": {
            "gridcolor": "white",
            "linecolor": "white",
            "ticks": ""
           },
           "baxis": {
            "gridcolor": "white",
            "linecolor": "white",
            "ticks": ""
           },
           "bgcolor": "#E5ECF6",
           "caxis": {
            "gridcolor": "white",
            "linecolor": "white",
            "ticks": ""
           }
          },
          "title": {
           "x": 0.05
          },
          "xaxis": {
           "automargin": true,
           "gridcolor": "white",
           "linecolor": "white",
           "ticks": "",
           "title": {
            "standoff": 15
           },
           "zerolinecolor": "white",
           "zerolinewidth": 2
          },
          "yaxis": {
           "automargin": true,
           "gridcolor": "white",
           "linecolor": "white",
           "ticks": "",
           "title": {
            "standoff": 15
           },
           "zerolinecolor": "white",
           "zerolinewidth": 2
          }
         }
        },
        "title": {
         "font": {
          "family": "Arial",
          "size": 24
         },
         "text": "<b>Pairwise Synergy Heatmap of HPO Features</b><br><span style='font-size:0.8em'>With respect to missense_variant</span>",
         "x": 0.5,
         "xanchor": "center",
         "yanchor": "top"
        },
        "width": 1116,
        "xaxis": {
         "tickangle": 90,
         "tickfont": {
          "size": 11
         }
        },
        "yaxis": {
         "scaleanchor": "x",
         "scaleratio": 1,
         "tickfont": {
          "size": 11
         }
        }
       }
      }
     },
     "metadata": {},
     "output_type": "display_data"
    }
   ],
   "source": [
    "target=target_matrix['missense_variant']\n",
    "synergy_analyzer=PairwiseSynergyAnalyzer(\n",
    "    hpo_data=hpo_matrix, \n",
    "    target=target,\n",
    "    n_permutations=1000,\n",
    "    min_individuals_for_synergy_caculation=40,\n",
    "    random_state=40)\n",
    "synergy_analyzer.compute_synergy_matrix(n_jobs=32,output_file='synergy_matrix_FBN1.xlsx')\n",
    "synergy_analyzer.plot_synergy_heatmap(\n",
    "    lower_bound=0.05,\n",
    "    target_name=target.name,\n",
    "    output_file='synergy_heatmap_FBN1.html', \n",
    ")"
   ]
  },
  {
   "cell_type": "markdown",
   "id": "144e4fad",
   "metadata": {},
   "source": [
    "### **Synergy Analysis for Terms Across Multiple Cohorts**\n",
    "This section demonstrates how to perform pairwise synergy analysis between HPO terms given by various targets (e.g., disease status, sex, or variant effects) across multiple cohorts.\n",
    "\n",
    "---"
   ]
  },
  {
   "cell_type": "markdown",
   "id": "e08cc868",
   "metadata": {},
   "source": [
    "##### **Loading Data and Preparing HPO Matrices**"
   ]
  },
  {
   "cell_type": "code",
   "execution_count": 5,
   "id": "f9055bb6",
   "metadata": {},
   "outputs": [
    {
     "name": "stdout",
     "output_type": "stream",
     "text": [
      "Individuals Processed: 100%|██████████| 277/277 [00:07<00:00, 36.00 individuals/s]\n"
     ]
    }
   ],
   "source": [
    "multi_cohort_names = [\"TGFBR1\",\"TGFBR2\",\"SMAD3\",\"TGFB2\",\"TGFB3\",\"SMAD2\"]\n",
    "multi_mane_tx_ids = ['NM_004612.4','NM_003242.6','NM_005902.4','NM_003238.6','NM_003239.5','NM_005901.6']\n",
    "multi_varsiant_effect_type = VariantEffect.MISSENSE_VARIANT\n",
    "\n",
    "# Load phenopackets from multiple cohorts\n",
    "multi_phenopackets = CohortDataLoader.from_ppkt_store(cohort_name=multi_cohort_names)\n",
    "\n",
    "# Prepare HPO and target matrices for multiple cohorts\n",
    "multi_hpo_matrix, multi_target_matrix = PhenopacketMatrixProcessor.prepare_hpo_data(\n",
    "    multi_phenopackets,\n",
    "    variant_effect_type=multi_varsiant_effect_type,\n",
    "    mane_tx_id=multi_mane_tx_ids,\n",
    "    threshold=0,\n",
    "    mode=None,\n",
    "    use_label=True,\n",
    "    nan_strategy=None\n",
    ")"
   ]
  },
  {
   "cell_type": "markdown",
   "id": "d5e36e13",
   "metadata": {},
   "source": [
    "Select a target from following targets:"
   ]
  },
  {
   "cell_type": "code",
   "execution_count": 6,
   "id": "726e9b72",
   "metadata": {},
   "outputs": [
    {
     "data": {
      "text/plain": [
       "Index(['Multiple self-healing squamous epithelioma, susceptibility to',\n",
       "       'Loeys-Dietz syndrome 1', 'Loeys-Dietz syndrome 2',\n",
       "       'Loeys-Dietz syndrome 3', 'Loeys-Dietz syndrome 4',\n",
       "       'Loeys-Dietz syndrome 5', 'Loeys-Dietz syndrome 6',\n",
       "       'Congenital heart defects, multiple types, 8, with or without heterotaxy',\n",
       "       'sex', 'missense_variant'],\n",
       "      dtype='object')"
      ]
     },
     "execution_count": 6,
     "metadata": {},
     "output_type": "execute_result"
    }
   ],
   "source": [
    "multi_target_matrix.columns"
   ]
  },
  {
   "cell_type": "markdown",
   "id": "b0b2f313",
   "metadata": {},
   "source": [
    "##### **Pairwise Synergy Analysis and Ploting**"
   ]
  },
  {
   "cell_type": "code",
   "execution_count": 7,
   "id": "ec7b366f",
   "metadata": {},
   "outputs": [
    {
     "data": {
      "application/vnd.plotly.v1+json": {
       "config": {
        "plotlyServerURL": "https://plot.ly"
       },
       "data": [
        {
         "colorbar": {
          "len": 0.8,
          "thickness": 28,
          "title": {
           "text": "Synergy"
          }
         },
         "colorscale": [
          [
           0,
           "rgb(247,251,255)"
          ],
          [
           0.125,
           "rgb(222,235,247)"
          ],
          [
           0.25,
           "rgb(198,219,239)"
          ],
          [
           0.375,
           "rgb(158,202,225)"
          ],
          [
           0.5,
           "rgb(107,174,214)"
          ],
          [
           0.625,
           "rgb(66,146,198)"
          ],
          [
           0.75,
           "rgb(33,113,181)"
          ],
          [
           0.875,
           "rgb(8,81,156)"
          ],
          [
           1,
           "rgb(8,48,107)"
          ]
         ],
         "hoverinfo": "text",
         "hovertext": [
          [
           "",
           "",
           "",
           "",
           "",
           "",
           "",
           "",
           "",
           "",
           "",
           "<b>X</b>: Striae distensae<br><b>Y</b>: Bifid uvula<br><b>Corr</b>: 0.06<br><b>p-val</b>: 0.025000",
           "",
           "",
           "",
           "<b>X</b>: Patent ductus arteriosus<br><b>Y</b>: Bifid uvula<br><b>Corr</b>: 0.07<br><b>p-val</b>: 0.026000",
           "",
           "",
           "",
           "",
           "",
           "",
           "",
           ""
          ],
          [
           "",
           "",
           "",
           "",
           "",
           "",
           "",
           "",
           "",
           "",
           "",
           "",
           "",
           "",
           "",
           "",
           "",
           "",
           "",
           "<b>X</b>: Frontal bossing<br><b>Y</b>: Dolichocephaly<br><b>Corr</b>: 0.06<br><b>p-val</b>: 0.046000",
           "",
           "",
           "",
           ""
          ],
          [
           "",
           "",
           "",
           "",
           "",
           "",
           "",
           "",
           "",
           "",
           "",
           "",
           "",
           "",
           "",
           "",
           "",
           "",
           "",
           "",
           "",
           "<b>X</b>: Scoliosis<br><b>Y</b>: Malar flattening<br><b>Corr</b>: 0.09<br><b>p-val</b>: 0.012000",
           "",
           ""
          ],
          [
           "",
           "",
           "",
           "",
           "",
           "",
           "",
           "",
           "",
           "",
           "",
           "",
           "",
           "",
           "<b>X</b>: Mitral valve prolapse<br><b>Y</b>: Retrognathia<br><b>Corr</b>: 0.08<br><b>p-val</b>: 0.005000",
           "",
           "",
           "",
           "",
           "",
           "",
           "",
           "",
           ""
          ],
          [
           "",
           "",
           "",
           "",
           "",
           "",
           "",
           "",
           "",
           "",
           "",
           "",
           "",
           "",
           "<b>X</b>: Mitral valve prolapse<br><b>Y</b>: Hypertelorism<br><b>Corr</b>: 0.07<br><b>p-val</b>: 0.001000",
           "",
           "",
           "",
           "",
           "",
           "",
           "",
           "",
           ""
          ],
          [
           "",
           "",
           "",
           "",
           "",
           "",
           "",
           "",
           "",
           "",
           "",
           "",
           "",
           "",
           "",
           "",
           "<b>X</b>: Mitral regurgitation<br><b>Y</b>: Downslanted palpebral fissures<br><b>Corr</b>: 0.05<br><b>p-val</b>: 0.065000",
           "",
           "<b>X</b>: Pes planus<br><b>Y</b>: Downslanted palpebral fissures<br><b>Corr</b>: 0.05<br><b>p-val</b>: 0.051000",
           "",
           "",
           "",
           "",
           ""
          ],
          [
           "",
           "",
           "",
           "",
           "",
           "",
           "",
           "",
           "",
           "",
           "",
           "",
           "",
           "",
           "<b>X</b>: Mitral valve prolapse<br><b>Y</b>: Proptosis<br><b>Corr</b>: 0.09<br><b>p-val</b>: 0.014000",
           "",
           "",
           "",
           "",
           "",
           "",
           "",
           "",
           ""
          ],
          [
           "",
           "",
           "",
           "",
           "",
           "",
           "",
           "",
           "",
           "<b>X</b>: Soft skin<br><b>Y</b>: Exotropia<br><b>Corr</b>: 0.08<br><b>p-val</b>: 0.009000",
           "",
           "",
           "",
           "",
           "",
           "",
           "",
           "",
           "",
           "",
           "",
           "",
           "",
           ""
          ],
          [
           "",
           "",
           "",
           "",
           "",
           "",
           "",
           "",
           "",
           "",
           "",
           "",
           "<b>X</b>: Arachnodactyly<br><b>Y</b>: Pectus carinatum<br><b>Corr</b>: 0.08<br><b>p-val</b>: 0.025000",
           "",
           "",
           "",
           "",
           "",
           "",
           "",
           "",
           "",
           "",
           ""
          ],
          [
           "",
           "",
           "",
           "",
           "",
           "",
           "",
           "<b>X</b>: Exotropia<br><b>Y</b>: Soft skin<br><b>Corr</b>: 0.08<br><b>p-val</b>: 0.009000",
           "",
           "",
           "",
           "",
           "",
           "",
           "",
           "",
           "",
           "",
           "",
           "",
           "<b>X</b>: Varicose veins<br><b>Y</b>: Soft skin<br><b>Corr</b>: 0.08<br><b>p-val</b>: 0.002000",
           "",
           "",
           ""
          ],
          [
           "",
           "",
           "",
           "",
           "",
           "",
           "",
           "",
           "",
           "",
           "",
           "",
           "",
           "",
           "<b>X</b>: Mitral valve prolapse<br><b>Y</b>: Bruising susceptibility<br><b>Corr</b>: 0.12<br><b>p-val</b>: 0.003000",
           "",
           "",
           "",
           "",
           "",
           "<b>X</b>: Varicose veins<br><b>Y</b>: Bruising susceptibility<br><b>Corr</b>: 0.08<br><b>p-val</b>: 0.024000",
           "",
           "",
           ""
          ],
          [
           "<b>X</b>: Bifid uvula<br><b>Y</b>: Striae distensae<br><b>Corr</b>: 0.06<br><b>p-val</b>: 0.025000",
           "",
           "",
           "",
           "",
           "",
           "",
           "",
           "",
           "",
           "",
           "",
           "",
           "",
           "",
           "",
           "",
           "",
           "",
           "",
           "",
           "",
           "",
           ""
          ],
          [
           "",
           "",
           "",
           "",
           "",
           "",
           "",
           "",
           "<b>X</b>: Pectus carinatum<br><b>Y</b>: Arachnodactyly<br><b>Corr</b>: 0.08<br><b>p-val</b>: 0.025000",
           "",
           "",
           "",
           "",
           "",
           "",
           "",
           "",
           "<b>X</b>: Talipes equinovarus<br><b>Y</b>: Arachnodactyly<br><b>Corr</b>: 0.09<br><b>p-val</b>: 0.006000",
           "",
           "",
           "",
           "",
           "",
           ""
          ],
          [
           "",
           "",
           "",
           "",
           "",
           "",
           "",
           "",
           "",
           "",
           "",
           "",
           "",
           "",
           "",
           "",
           "",
           "",
           "",
           "",
           "",
           "",
           "<b>X</b>: Arterial tortuosity<br><b>Y</b>: Disproportionate tall stature<br><b>Corr</b>: 0.06<br><b>p-val</b>: 0.038000",
           ""
          ],
          [
           "",
           "",
           "",
           "<b>X</b>: Retrognathia<br><b>Y</b>: Mitral valve prolapse<br><b>Corr</b>: 0.08<br><b>p-val</b>: 0.005000",
           "<b>X</b>: Hypertelorism<br><b>Y</b>: Mitral valve prolapse<br><b>Corr</b>: 0.07<br><b>p-val</b>: 0.001000",
           "",
           "<b>X</b>: Proptosis<br><b>Y</b>: Mitral valve prolapse<br><b>Corr</b>: 0.09<br><b>p-val</b>: 0.014000",
           "",
           "",
           "",
           "<b>X</b>: Bruising susceptibility<br><b>Y</b>: Mitral valve prolapse<br><b>Corr</b>: 0.12<br><b>p-val</b>: 0.003000",
           "",
           "",
           "",
           "",
           "",
           "",
           "",
           "",
           "",
           "",
           "",
           "",
           ""
          ],
          [
           "<b>X</b>: Bifid uvula<br><b>Y</b>: Patent ductus arteriosus<br><b>Corr</b>: 0.07<br><b>p-val</b>: 0.026000",
           "",
           "",
           "",
           "",
           "",
           "",
           "",
           "",
           "",
           "",
           "",
           "",
           "",
           "",
           "",
           "",
           "",
           "",
           "",
           "",
           "",
           "",
           ""
          ],
          [
           "",
           "",
           "",
           "",
           "",
           "<b>X</b>: Downslanted palpebral fissures<br><b>Y</b>: Mitral regurgitation<br><b>Corr</b>: 0.05<br><b>p-val</b>: 0.065000",
           "",
           "",
           "",
           "",
           "",
           "",
           "",
           "",
           "",
           "",
           "",
           "",
           "",
           "",
           "",
           "",
           "",
           ""
          ],
          [
           "",
           "",
           "",
           "",
           "",
           "",
           "",
           "",
           "",
           "",
           "",
           "",
           "<b>X</b>: Arachnodactyly<br><b>Y</b>: Talipes equinovarus<br><b>Corr</b>: 0.09<br><b>p-val</b>: 0.006000",
           "",
           "",
           "",
           "",
           "",
           "",
           "",
           "",
           "",
           "",
           ""
          ],
          [
           "",
           "",
           "",
           "",
           "",
           "<b>X</b>: Downslanted palpebral fissures<br><b>Y</b>: Pes planus<br><b>Corr</b>: 0.05<br><b>p-val</b>: 0.051000",
           "",
           "",
           "",
           "",
           "",
           "",
           "",
           "",
           "",
           "",
           "",
           "",
           "",
           "",
           "",
           "",
           "",
           ""
          ],
          [
           "",
           "<b>X</b>: Dolichocephaly<br><b>Y</b>: Frontal bossing<br><b>Corr</b>: 0.06<br><b>p-val</b>: 0.046000",
           "",
           "",
           "",
           "",
           "",
           "",
           "",
           "",
           "",
           "",
           "",
           "",
           "",
           "",
           "",
           "",
           "",
           "",
           "",
           "",
           "",
           ""
          ],
          [
           "",
           "",
           "",
           "",
           "",
           "",
           "",
           "",
           "",
           "<b>X</b>: Soft skin<br><b>Y</b>: Varicose veins<br><b>Corr</b>: 0.08<br><b>p-val</b>: 0.002000",
           "<b>X</b>: Bruising susceptibility<br><b>Y</b>: Varicose veins<br><b>Corr</b>: 0.08<br><b>p-val</b>: 0.024000",
           "",
           "",
           "",
           "",
           "",
           "",
           "",
           "",
           "",
           "",
           "",
           "",
           ""
          ],
          [
           "",
           "",
           "<b>X</b>: Malar flattening<br><b>Y</b>: Scoliosis<br><b>Corr</b>: 0.09<br><b>p-val</b>: 0.012000",
           "",
           "",
           "",
           "",
           "",
           "",
           "",
           "",
           "",
           "",
           "",
           "",
           "",
           "",
           "",
           "",
           "",
           "",
           "",
           "",
           "<b>X</b>: Camptodactyly<br><b>Y</b>: Scoliosis<br><b>Corr</b>: 0.06<br><b>p-val</b>: 0.028000"
          ],
          [
           "",
           "",
           "",
           "",
           "",
           "",
           "",
           "",
           "",
           "",
           "",
           "",
           "",
           "<b>X</b>: Disproportionate tall stature<br><b>Y</b>: Arterial tortuosity<br><b>Corr</b>: 0.06<br><b>p-val</b>: 0.038000",
           "",
           "",
           "",
           "",
           "",
           "",
           "",
           "",
           "",
           ""
          ],
          [
           "",
           "",
           "",
           "",
           "",
           "",
           "",
           "",
           "",
           "",
           "",
           "",
           "",
           "",
           "",
           "",
           "",
           "",
           "",
           "",
           "",
           "<b>X</b>: Scoliosis<br><b>Y</b>: Camptodactyly<br><b>Corr</b>: 0.06<br><b>p-val</b>: 0.028000",
           "",
           ""
          ]
         ],
         "text": [
          [
           "",
           "",
           "",
           "",
           "",
           "",
           "",
           "",
           "",
           "",
           "",
           "0.06",
           "",
           "",
           "",
           "0.07",
           "",
           "",
           "",
           "",
           "",
           "",
           "",
           ""
          ],
          [
           "",
           "",
           "",
           "",
           "",
           "",
           "",
           "",
           "",
           "",
           "",
           "",
           "",
           "",
           "",
           "",
           "",
           "",
           "",
           "0.06",
           "",
           "",
           "",
           ""
          ],
          [
           "",
           "",
           "",
           "",
           "",
           "",
           "",
           "",
           "",
           "",
           "",
           "",
           "",
           "",
           "",
           "",
           "",
           "",
           "",
           "",
           "",
           "0.09",
           "",
           ""
          ],
          [
           "",
           "",
           "",
           "",
           "",
           "",
           "",
           "",
           "",
           "",
           "",
           "",
           "",
           "",
           "0.08",
           "",
           "",
           "",
           "",
           "",
           "",
           "",
           "",
           ""
          ],
          [
           "",
           "",
           "",
           "",
           "",
           "",
           "",
           "",
           "",
           "",
           "",
           "",
           "",
           "",
           "0.07",
           "",
           "",
           "",
           "",
           "",
           "",
           "",
           "",
           ""
          ],
          [
           "",
           "",
           "",
           "",
           "",
           "",
           "",
           "",
           "",
           "",
           "",
           "",
           "",
           "",
           "",
           "",
           "0.05",
           "",
           "0.05",
           "",
           "",
           "",
           "",
           ""
          ],
          [
           "",
           "",
           "",
           "",
           "",
           "",
           "",
           "",
           "",
           "",
           "",
           "",
           "",
           "",
           "0.09",
           "",
           "",
           "",
           "",
           "",
           "",
           "",
           "",
           ""
          ],
          [
           "",
           "",
           "",
           "",
           "",
           "",
           "",
           "",
           "",
           "0.08",
           "",
           "",
           "",
           "",
           "",
           "",
           "",
           "",
           "",
           "",
           "",
           "",
           "",
           ""
          ],
          [
           "",
           "",
           "",
           "",
           "",
           "",
           "",
           "",
           "",
           "",
           "",
           "",
           "0.08",
           "",
           "",
           "",
           "",
           "",
           "",
           "",
           "",
           "",
           "",
           ""
          ],
          [
           "",
           "",
           "",
           "",
           "",
           "",
           "",
           "0.08",
           "",
           "",
           "",
           "",
           "",
           "",
           "",
           "",
           "",
           "",
           "",
           "",
           "0.08",
           "",
           "",
           ""
          ],
          [
           "",
           "",
           "",
           "",
           "",
           "",
           "",
           "",
           "",
           "",
           "",
           "",
           "",
           "",
           "0.12",
           "",
           "",
           "",
           "",
           "",
           "0.08",
           "",
           "",
           ""
          ],
          [
           "0.06",
           "",
           "",
           "",
           "",
           "",
           "",
           "",
           "",
           "",
           "",
           "",
           "",
           "",
           "",
           "",
           "",
           "",
           "",
           "",
           "",
           "",
           "",
           ""
          ],
          [
           "",
           "",
           "",
           "",
           "",
           "",
           "",
           "",
           "0.08",
           "",
           "",
           "",
           "",
           "",
           "",
           "",
           "",
           "0.09",
           "",
           "",
           "",
           "",
           "",
           ""
          ],
          [
           "",
           "",
           "",
           "",
           "",
           "",
           "",
           "",
           "",
           "",
           "",
           "",
           "",
           "",
           "",
           "",
           "",
           "",
           "",
           "",
           "",
           "",
           "0.06",
           ""
          ],
          [
           "",
           "",
           "",
           "0.08",
           "0.07",
           "",
           "0.09",
           "",
           "",
           "",
           "0.12",
           "",
           "",
           "",
           "",
           "",
           "",
           "",
           "",
           "",
           "",
           "",
           "",
           ""
          ],
          [
           "0.07",
           "",
           "",
           "",
           "",
           "",
           "",
           "",
           "",
           "",
           "",
           "",
           "",
           "",
           "",
           "",
           "",
           "",
           "",
           "",
           "",
           "",
           "",
           ""
          ],
          [
           "",
           "",
           "",
           "",
           "",
           "0.05",
           "",
           "",
           "",
           "",
           "",
           "",
           "",
           "",
           "",
           "",
           "",
           "",
           "",
           "",
           "",
           "",
           "",
           ""
          ],
          [
           "",
           "",
           "",
           "",
           "",
           "",
           "",
           "",
           "",
           "",
           "",
           "",
           "0.09",
           "",
           "",
           "",
           "",
           "",
           "",
           "",
           "",
           "",
           "",
           ""
          ],
          [
           "",
           "",
           "",
           "",
           "",
           "0.05",
           "",
           "",
           "",
           "",
           "",
           "",
           "",
           "",
           "",
           "",
           "",
           "",
           "",
           "",
           "",
           "",
           "",
           ""
          ],
          [
           "",
           "0.06",
           "",
           "",
           "",
           "",
           "",
           "",
           "",
           "",
           "",
           "",
           "",
           "",
           "",
           "",
           "",
           "",
           "",
           "",
           "",
           "",
           "",
           ""
          ],
          [
           "",
           "",
           "",
           "",
           "",
           "",
           "",
           "",
           "",
           "0.08",
           "0.08",
           "",
           "",
           "",
           "",
           "",
           "",
           "",
           "",
           "",
           "",
           "",
           "",
           ""
          ],
          [
           "",
           "",
           "0.09",
           "",
           "",
           "",
           "",
           "",
           "",
           "",
           "",
           "",
           "",
           "",
           "",
           "",
           "",
           "",
           "",
           "",
           "",
           "",
           "",
           "0.06"
          ],
          [
           "",
           "",
           "",
           "",
           "",
           "",
           "",
           "",
           "",
           "",
           "",
           "",
           "",
           "0.06",
           "",
           "",
           "",
           "",
           "",
           "",
           "",
           "",
           "",
           ""
          ],
          [
           "",
           "",
           "",
           "",
           "",
           "",
           "",
           "",
           "",
           "",
           "",
           "",
           "",
           "",
           "",
           "",
           "",
           "",
           "",
           "",
           "",
           "0.06",
           "",
           ""
          ]
         ],
         "texttemplate": "<span style='font-size:9px'>%{text}</span>",
         "type": "heatmap",
         "x": [
          "Bifid uvula",
          "Dolichocephaly",
          "Malar flattening",
          "Retrognathia",
          "Hypertelorism",
          "Downslanted palpebral fissures",
          "Proptosis",
          "Exotropia",
          "Pectus carinatum",
          "Soft skin",
          "Bruising susceptibility",
          "Striae distensae",
          "Arachnodactyly",
          "Disproportionate tall stature",
          "Mitral valve prolapse",
          "Patent ductus arteriosus",
          "Mitral regurgitation",
          "Talipes equinovarus",
          "Pes planus",
          "Frontal bossing",
          "Varicose veins",
          "Scoliosis",
          "Arterial tortuosity",
          "Camptodactyly"
         ],
         "xgap": 1,
         "y": [
          "Bifid uvula",
          "Dolichocephaly",
          "Malar flattening",
          "Retrognathia",
          "Hypertelorism",
          "Downslanted palpebral fissures",
          "Proptosis",
          "Exotropia",
          "Pectus carinatum",
          "Soft skin",
          "Bruising susceptibility",
          "Striae distensae",
          "Arachnodactyly",
          "Disproportionate tall stature",
          "Mitral valve prolapse",
          "Patent ductus arteriosus",
          "Mitral regurgitation",
          "Talipes equinovarus",
          "Pes planus",
          "Frontal bossing",
          "Varicose veins",
          "Scoliosis",
          "Arterial tortuosity",
          "Camptodactyly"
         ],
         "ygap": 1,
         "z": [
          [
           0,
           0,
           0,
           0,
           0,
           0,
           0,
           0,
           0,
           0,
           0,
           0.06374141931977974,
           0,
           0,
           0,
           0.0702583188918898,
           0,
           0,
           0,
           0,
           0,
           0,
           0,
           0
          ],
          [
           0,
           0,
           0,
           0,
           0,
           0,
           0,
           0,
           0,
           0,
           0,
           0,
           0,
           0,
           0,
           0,
           0,
           0,
           0,
           0.06178641281883437,
           0,
           0,
           0,
           0
          ],
          [
           0,
           0,
           0,
           0,
           0,
           0,
           0,
           0,
           0,
           0,
           0,
           0,
           0,
           0,
           0,
           0,
           0,
           0,
           0,
           0,
           0,
           0.0850297849751232,
           0,
           0
          ],
          [
           0,
           0,
           0,
           0,
           0,
           0,
           0,
           0,
           0,
           0,
           0,
           0,
           0,
           0,
           0.07681962946627183,
           0,
           0,
           0,
           0,
           0,
           0,
           0,
           0,
           0
          ],
          [
           0,
           0,
           0,
           0,
           0,
           0,
           0,
           0,
           0,
           0,
           0,
           0,
           0,
           0,
           0.06801802166655718,
           0,
           0,
           0,
           0,
           0,
           0,
           0,
           0,
           0
          ],
          [
           0,
           0,
           0,
           0,
           0,
           0,
           0,
           0,
           0,
           0,
           0,
           0,
           0,
           0,
           0,
           0,
           0.0547636584979074,
           0,
           0.050074192771961235,
           0,
           0,
           0,
           0,
           0
          ],
          [
           0,
           0,
           0,
           0,
           0,
           0,
           0,
           0,
           0,
           0,
           0,
           0,
           0,
           0,
           0.08901024984438356,
           0,
           0,
           0,
           0,
           0,
           0,
           0,
           0,
           0
          ],
          [
           0,
           0,
           0,
           0,
           0,
           0,
           0,
           0,
           0,
           0.07537853936551606,
           0,
           0,
           0,
           0,
           0,
           0,
           0,
           0,
           0,
           0,
           0,
           0,
           0,
           0
          ],
          [
           0,
           0,
           0,
           0,
           0,
           0,
           0,
           0,
           0,
           0,
           0,
           0,
           0.07747411032149469,
           0,
           0,
           0,
           0,
           0,
           0,
           0,
           0,
           0,
           0,
           0
          ],
          [
           0,
           0,
           0,
           0,
           0,
           0,
           0,
           0.07537853936551606,
           0,
           0,
           0,
           0,
           0,
           0,
           0,
           0,
           0,
           0,
           0,
           0,
           0.08404978450556029,
           0,
           0,
           0
          ],
          [
           0,
           0,
           0,
           0,
           0,
           0,
           0,
           0,
           0,
           0,
           0,
           0,
           0,
           0,
           0.12284952831202475,
           0,
           0,
           0,
           0,
           0,
           0.07985411565369582,
           0,
           0,
           0
          ],
          [
           0.06374141931977974,
           0,
           0,
           0,
           0,
           0,
           0,
           0,
           0,
           0,
           0,
           0,
           0,
           0,
           0,
           0,
           0,
           0,
           0,
           0,
           0,
           0,
           0,
           0
          ],
          [
           0,
           0,
           0,
           0,
           0,
           0,
           0,
           0,
           0.07747411032149469,
           0,
           0,
           0,
           0,
           0,
           0,
           0,
           0,
           0.08778532791519625,
           0,
           0,
           0,
           0,
           0,
           0
          ],
          [
           0,
           0,
           0,
           0,
           0,
           0,
           0,
           0,
           0,
           0,
           0,
           0,
           0,
           0,
           0,
           0,
           0,
           0,
           0,
           0,
           0,
           0,
           0.060530777663284935,
           0
          ],
          [
           0,
           0,
           0,
           0.07681962946627183,
           0.06801802166655718,
           0,
           0.08901024984438356,
           0,
           0,
           0,
           0.12284952831202475,
           0,
           0,
           0,
           0,
           0,
           0,
           0,
           0,
           0,
           0,
           0,
           0,
           0
          ],
          [
           0.0702583188918898,
           0,
           0,
           0,
           0,
           0,
           0,
           0,
           0,
           0,
           0,
           0,
           0,
           0,
           0,
           0,
           0,
           0,
           0,
           0,
           0,
           0,
           0,
           0
          ],
          [
           0,
           0,
           0,
           0,
           0,
           0.0547636584979074,
           0,
           0,
           0,
           0,
           0,
           0,
           0,
           0,
           0,
           0,
           0,
           0,
           0,
           0,
           0,
           0,
           0,
           0
          ],
          [
           0,
           0,
           0,
           0,
           0,
           0,
           0,
           0,
           0,
           0,
           0,
           0,
           0.08778532791519625,
           0,
           0,
           0,
           0,
           0,
           0,
           0,
           0,
           0,
           0,
           0
          ],
          [
           0,
           0,
           0,
           0,
           0,
           0.050074192771961235,
           0,
           0,
           0,
           0,
           0,
           0,
           0,
           0,
           0,
           0,
           0,
           0,
           0,
           0,
           0,
           0,
           0,
           0
          ],
          [
           0,
           0.06178641281883437,
           0,
           0,
           0,
           0,
           0,
           0,
           0,
           0,
           0,
           0,
           0,
           0,
           0,
           0,
           0,
           0,
           0,
           0,
           0,
           0,
           0,
           0
          ],
          [
           0,
           0,
           0,
           0,
           0,
           0,
           0,
           0,
           0,
           0.08404978450556029,
           0.07985411565369582,
           0,
           0,
           0,
           0,
           0,
           0,
           0,
           0,
           0,
           0,
           0,
           0,
           0
          ],
          [
           0,
           0,
           0.0850297849751232,
           0,
           0,
           0,
           0,
           0,
           0,
           0,
           0,
           0,
           0,
           0,
           0,
           0,
           0,
           0,
           0,
           0,
           0,
           0,
           0,
           0.05867173211210207
          ],
          [
           0,
           0,
           0,
           0,
           0,
           0,
           0,
           0,
           0,
           0,
           0,
           0,
           0,
           0.060530777663284935,
           0,
           0,
           0,
           0,
           0,
           0,
           0,
           0,
           0,
           0
          ],
          [
           0,
           0,
           0,
           0,
           0,
           0,
           0,
           0,
           0,
           0,
           0,
           0,
           0,
           0,
           0,
           0,
           0,
           0,
           0,
           0,
           0,
           0.05867173211210207,
           0,
           0
          ]
         ],
         "zmax": 0.12284952831202475,
         "zmid": 0,
         "zmin": 0
        }
       ],
       "layout": {
        "height": 1530,
        "plot_bgcolor": "rgba(240,240,240,0.1)",
        "template": {
         "data": {
          "bar": [
           {
            "error_x": {
             "color": "#2a3f5f"
            },
            "error_y": {
             "color": "#2a3f5f"
            },
            "marker": {
             "line": {
              "color": "#E5ECF6",
              "width": 0.5
             },
             "pattern": {
              "fillmode": "overlay",
              "size": 10,
              "solidity": 0.2
             }
            },
            "type": "bar"
           }
          ],
          "barpolar": [
           {
            "marker": {
             "line": {
              "color": "#E5ECF6",
              "width": 0.5
             },
             "pattern": {
              "fillmode": "overlay",
              "size": 10,
              "solidity": 0.2
             }
            },
            "type": "barpolar"
           }
          ],
          "carpet": [
           {
            "aaxis": {
             "endlinecolor": "#2a3f5f",
             "gridcolor": "white",
             "linecolor": "white",
             "minorgridcolor": "white",
             "startlinecolor": "#2a3f5f"
            },
            "baxis": {
             "endlinecolor": "#2a3f5f",
             "gridcolor": "white",
             "linecolor": "white",
             "minorgridcolor": "white",
             "startlinecolor": "#2a3f5f"
            },
            "type": "carpet"
           }
          ],
          "choropleth": [
           {
            "colorbar": {
             "outlinewidth": 0,
             "ticks": ""
            },
            "type": "choropleth"
           }
          ],
          "contour": [
           {
            "colorbar": {
             "outlinewidth": 0,
             "ticks": ""
            },
            "colorscale": [
             [
              0,
              "#0d0887"
             ],
             [
              0.1111111111111111,
              "#46039f"
             ],
             [
              0.2222222222222222,
              "#7201a8"
             ],
             [
              0.3333333333333333,
              "#9c179e"
             ],
             [
              0.4444444444444444,
              "#bd3786"
             ],
             [
              0.5555555555555556,
              "#d8576b"
             ],
             [
              0.6666666666666666,
              "#ed7953"
             ],
             [
              0.7777777777777778,
              "#fb9f3a"
             ],
             [
              0.8888888888888888,
              "#fdca26"
             ],
             [
              1,
              "#f0f921"
             ]
            ],
            "type": "contour"
           }
          ],
          "contourcarpet": [
           {
            "colorbar": {
             "outlinewidth": 0,
             "ticks": ""
            },
            "type": "contourcarpet"
           }
          ],
          "heatmap": [
           {
            "colorbar": {
             "outlinewidth": 0,
             "ticks": ""
            },
            "colorscale": [
             [
              0,
              "#0d0887"
             ],
             [
              0.1111111111111111,
              "#46039f"
             ],
             [
              0.2222222222222222,
              "#7201a8"
             ],
             [
              0.3333333333333333,
              "#9c179e"
             ],
             [
              0.4444444444444444,
              "#bd3786"
             ],
             [
              0.5555555555555556,
              "#d8576b"
             ],
             [
              0.6666666666666666,
              "#ed7953"
             ],
             [
              0.7777777777777778,
              "#fb9f3a"
             ],
             [
              0.8888888888888888,
              "#fdca26"
             ],
             [
              1,
              "#f0f921"
             ]
            ],
            "type": "heatmap"
           }
          ],
          "heatmapgl": [
           {
            "colorbar": {
             "outlinewidth": 0,
             "ticks": ""
            },
            "colorscale": [
             [
              0,
              "#0d0887"
             ],
             [
              0.1111111111111111,
              "#46039f"
             ],
             [
              0.2222222222222222,
              "#7201a8"
             ],
             [
              0.3333333333333333,
              "#9c179e"
             ],
             [
              0.4444444444444444,
              "#bd3786"
             ],
             [
              0.5555555555555556,
              "#d8576b"
             ],
             [
              0.6666666666666666,
              "#ed7953"
             ],
             [
              0.7777777777777778,
              "#fb9f3a"
             ],
             [
              0.8888888888888888,
              "#fdca26"
             ],
             [
              1,
              "#f0f921"
             ]
            ],
            "type": "heatmapgl"
           }
          ],
          "histogram": [
           {
            "marker": {
             "pattern": {
              "fillmode": "overlay",
              "size": 10,
              "solidity": 0.2
             }
            },
            "type": "histogram"
           }
          ],
          "histogram2d": [
           {
            "colorbar": {
             "outlinewidth": 0,
             "ticks": ""
            },
            "colorscale": [
             [
              0,
              "#0d0887"
             ],
             [
              0.1111111111111111,
              "#46039f"
             ],
             [
              0.2222222222222222,
              "#7201a8"
             ],
             [
              0.3333333333333333,
              "#9c179e"
             ],
             [
              0.4444444444444444,
              "#bd3786"
             ],
             [
              0.5555555555555556,
              "#d8576b"
             ],
             [
              0.6666666666666666,
              "#ed7953"
             ],
             [
              0.7777777777777778,
              "#fb9f3a"
             ],
             [
              0.8888888888888888,
              "#fdca26"
             ],
             [
              1,
              "#f0f921"
             ]
            ],
            "type": "histogram2d"
           }
          ],
          "histogram2dcontour": [
           {
            "colorbar": {
             "outlinewidth": 0,
             "ticks": ""
            },
            "colorscale": [
             [
              0,
              "#0d0887"
             ],
             [
              0.1111111111111111,
              "#46039f"
             ],
             [
              0.2222222222222222,
              "#7201a8"
             ],
             [
              0.3333333333333333,
              "#9c179e"
             ],
             [
              0.4444444444444444,
              "#bd3786"
             ],
             [
              0.5555555555555556,
              "#d8576b"
             ],
             [
              0.6666666666666666,
              "#ed7953"
             ],
             [
              0.7777777777777778,
              "#fb9f3a"
             ],
             [
              0.8888888888888888,
              "#fdca26"
             ],
             [
              1,
              "#f0f921"
             ]
            ],
            "type": "histogram2dcontour"
           }
          ],
          "mesh3d": [
           {
            "colorbar": {
             "outlinewidth": 0,
             "ticks": ""
            },
            "type": "mesh3d"
           }
          ],
          "parcoords": [
           {
            "line": {
             "colorbar": {
              "outlinewidth": 0,
              "ticks": ""
             }
            },
            "type": "parcoords"
           }
          ],
          "pie": [
           {
            "automargin": true,
            "type": "pie"
           }
          ],
          "scatter": [
           {
            "fillpattern": {
             "fillmode": "overlay",
             "size": 10,
             "solidity": 0.2
            },
            "type": "scatter"
           }
          ],
          "scatter3d": [
           {
            "line": {
             "colorbar": {
              "outlinewidth": 0,
              "ticks": ""
             }
            },
            "marker": {
             "colorbar": {
              "outlinewidth": 0,
              "ticks": ""
             }
            },
            "type": "scatter3d"
           }
          ],
          "scattercarpet": [
           {
            "marker": {
             "colorbar": {
              "outlinewidth": 0,
              "ticks": ""
             }
            },
            "type": "scattercarpet"
           }
          ],
          "scattergeo": [
           {
            "marker": {
             "colorbar": {
              "outlinewidth": 0,
              "ticks": ""
             }
            },
            "type": "scattergeo"
           }
          ],
          "scattergl": [
           {
            "marker": {
             "colorbar": {
              "outlinewidth": 0,
              "ticks": ""
             }
            },
            "type": "scattergl"
           }
          ],
          "scattermapbox": [
           {
            "marker": {
             "colorbar": {
              "outlinewidth": 0,
              "ticks": ""
             }
            },
            "type": "scattermapbox"
           }
          ],
          "scatterpolar": [
           {
            "marker": {
             "colorbar": {
              "outlinewidth": 0,
              "ticks": ""
             }
            },
            "type": "scatterpolar"
           }
          ],
          "scatterpolargl": [
           {
            "marker": {
             "colorbar": {
              "outlinewidth": 0,
              "ticks": ""
             }
            },
            "type": "scatterpolargl"
           }
          ],
          "scatterternary": [
           {
            "marker": {
             "colorbar": {
              "outlinewidth": 0,
              "ticks": ""
             }
            },
            "type": "scatterternary"
           }
          ],
          "surface": [
           {
            "colorbar": {
             "outlinewidth": 0,
             "ticks": ""
            },
            "colorscale": [
             [
              0,
              "#0d0887"
             ],
             [
              0.1111111111111111,
              "#46039f"
             ],
             [
              0.2222222222222222,
              "#7201a8"
             ],
             [
              0.3333333333333333,
              "#9c179e"
             ],
             [
              0.4444444444444444,
              "#bd3786"
             ],
             [
              0.5555555555555556,
              "#d8576b"
             ],
             [
              0.6666666666666666,
              "#ed7953"
             ],
             [
              0.7777777777777778,
              "#fb9f3a"
             ],
             [
              0.8888888888888888,
              "#fdca26"
             ],
             [
              1,
              "#f0f921"
             ]
            ],
            "type": "surface"
           }
          ],
          "table": [
           {
            "cells": {
             "fill": {
              "color": "#EBF0F8"
             },
             "line": {
              "color": "white"
             }
            },
            "header": {
             "fill": {
              "color": "#C8D4E3"
             },
             "line": {
              "color": "white"
             }
            },
            "type": "table"
           }
          ]
         },
         "layout": {
          "annotationdefaults": {
           "arrowcolor": "#2a3f5f",
           "arrowhead": 0,
           "arrowwidth": 1
          },
          "autotypenumbers": "strict",
          "coloraxis": {
           "colorbar": {
            "outlinewidth": 0,
            "ticks": ""
           }
          },
          "colorscale": {
           "diverging": [
            [
             0,
             "#8e0152"
            ],
            [
             0.1,
             "#c51b7d"
            ],
            [
             0.2,
             "#de77ae"
            ],
            [
             0.3,
             "#f1b6da"
            ],
            [
             0.4,
             "#fde0ef"
            ],
            [
             0.5,
             "#f7f7f7"
            ],
            [
             0.6,
             "#e6f5d0"
            ],
            [
             0.7,
             "#b8e186"
            ],
            [
             0.8,
             "#7fbc41"
            ],
            [
             0.9,
             "#4d9221"
            ],
            [
             1,
             "#276419"
            ]
           ],
           "sequential": [
            [
             0,
             "#0d0887"
            ],
            [
             0.1111111111111111,
             "#46039f"
            ],
            [
             0.2222222222222222,
             "#7201a8"
            ],
            [
             0.3333333333333333,
             "#9c179e"
            ],
            [
             0.4444444444444444,
             "#bd3786"
            ],
            [
             0.5555555555555556,
             "#d8576b"
            ],
            [
             0.6666666666666666,
             "#ed7953"
            ],
            [
             0.7777777777777778,
             "#fb9f3a"
            ],
            [
             0.8888888888888888,
             "#fdca26"
            ],
            [
             1,
             "#f0f921"
            ]
           ],
           "sequentialminus": [
            [
             0,
             "#0d0887"
            ],
            [
             0.1111111111111111,
             "#46039f"
            ],
            [
             0.2222222222222222,
             "#7201a8"
            ],
            [
             0.3333333333333333,
             "#9c179e"
            ],
            [
             0.4444444444444444,
             "#bd3786"
            ],
            [
             0.5555555555555556,
             "#d8576b"
            ],
            [
             0.6666666666666666,
             "#ed7953"
            ],
            [
             0.7777777777777778,
             "#fb9f3a"
            ],
            [
             0.8888888888888888,
             "#fdca26"
            ],
            [
             1,
             "#f0f921"
            ]
           ]
          },
          "colorway": [
           "#636efa",
           "#EF553B",
           "#00cc96",
           "#ab63fa",
           "#FFA15A",
           "#19d3f3",
           "#FF6692",
           "#B6E880",
           "#FF97FF",
           "#FECB52"
          ],
          "font": {
           "color": "#2a3f5f"
          },
          "geo": {
           "bgcolor": "white",
           "lakecolor": "white",
           "landcolor": "#E5ECF6",
           "showlakes": true,
           "showland": true,
           "subunitcolor": "white"
          },
          "hoverlabel": {
           "align": "left"
          },
          "hovermode": "closest",
          "mapbox": {
           "style": "light"
          },
          "paper_bgcolor": "white",
          "plot_bgcolor": "#E5ECF6",
          "polar": {
           "angularaxis": {
            "gridcolor": "white",
            "linecolor": "white",
            "ticks": ""
           },
           "bgcolor": "#E5ECF6",
           "radialaxis": {
            "gridcolor": "white",
            "linecolor": "white",
            "ticks": ""
           }
          },
          "scene": {
           "xaxis": {
            "backgroundcolor": "#E5ECF6",
            "gridcolor": "white",
            "gridwidth": 2,
            "linecolor": "white",
            "showbackground": true,
            "ticks": "",
            "zerolinecolor": "white"
           },
           "yaxis": {
            "backgroundcolor": "#E5ECF6",
            "gridcolor": "white",
            "gridwidth": 2,
            "linecolor": "white",
            "showbackground": true,
            "ticks": "",
            "zerolinecolor": "white"
           },
           "zaxis": {
            "backgroundcolor": "#E5ECF6",
            "gridcolor": "white",
            "gridwidth": 2,
            "linecolor": "white",
            "showbackground": true,
            "ticks": "",
            "zerolinecolor": "white"
           }
          },
          "shapedefaults": {
           "line": {
            "color": "#2a3f5f"
           }
          },
          "ternary": {
           "aaxis": {
            "gridcolor": "white",
            "linecolor": "white",
            "ticks": ""
           },
           "baxis": {
            "gridcolor": "white",
            "linecolor": "white",
            "ticks": ""
           },
           "bgcolor": "#E5ECF6",
           "caxis": {
            "gridcolor": "white",
            "linecolor": "white",
            "ticks": ""
           }
          },
          "title": {
           "x": 0.05
          },
          "xaxis": {
           "automargin": true,
           "gridcolor": "white",
           "linecolor": "white",
           "ticks": "",
           "title": {
            "standoff": 15
           },
           "zerolinecolor": "white",
           "zerolinewidth": 2
          },
          "yaxis": {
           "automargin": true,
           "gridcolor": "white",
           "linecolor": "white",
           "ticks": "",
           "title": {
            "standoff": 15
           },
           "zerolinecolor": "white",
           "zerolinewidth": 2
          }
         }
        },
        "title": {
         "font": {
          "family": "Arial",
          "size": 24
         },
         "text": "<b>Pairwise Synergy Heatmap of HPO Features</b><br><span style='font-size:0.8em'>With respect to Loeys-Dietz syndrome 2</span>",
         "x": 0.5,
         "xanchor": "center",
         "yanchor": "top"
        },
        "width": 1530,
        "xaxis": {
         "tickangle": 90,
         "tickfont": {
          "size": 9
         }
        },
        "yaxis": {
         "scaleanchor": "x",
         "scaleratio": 1,
         "tickfont": {
          "size": 9
         }
        }
       }
      }
     },
     "metadata": {},
     "output_type": "display_data"
    }
   ],
   "source": [
    "# Select disease target from multi-cohort target matrix\n",
    "multi_target = multi_target_matrix['Loeys-Dietz syndrome 2']\n",
    "\n",
    "# Initialize synergy analyzer for multiple cohorts\n",
    "multi_synergy_analyzer = PairwiseSynergyAnalyzer(\n",
    "    hpo_data=multi_hpo_matrix,\n",
    "    target=multi_target,\n",
    "    n_permutations=1000,\n",
    "    min_individuals_for_synergy_caculation=40,\n",
    "    random_state=40,\n",
    ")\n",
    "\n",
    "# Compute synergy values\n",
    "multi_synergy_analyzer.compute_synergy_matrix(n_jobs=32)\n",
    "\n",
    "# Plot synergy heatmap\n",
    "multi_synergy_analyzer.plot_synergy_heatmap(\n",
    "    lower_bound=0.05,\n",
    "    target_name=multi_target.name\n",
    ")"
   ]
  },
  {
   "cell_type": "markdown",
   "id": "8291c5d9",
   "metadata": {},
   "source": [
    "### **Comprehensive Synergy Analysis Across All Cohorts in Phenopacket Store**\n",
    "\n",
    "This section demonstrates how to conduct synergy analysis between HPO terms and targets such as disease status, sex, or variant effects across all cohorts available in the Phenopacket Store.\n",
    "\n",
    "We start by loading a zipped phenopacket dataset, selecting target cohorts (FBN1), and defining a binary target matrix to distinguish between selected and non-selected cohorts. We then prepare the HPO term matrix and the external target matrix. Finally, synergy scores are computed to identify pairs of HPO terms that jointly provide more predictive power for the target than expected from their individual associations.\n",
    "\n",
    "This comprehensive approach provides insight into synergistic relationships between phenotypes and disease-related variables across multiple cohorts.\n",
    "\n",
    "---"
   ]
  },
  {
   "cell_type": "markdown",
   "id": "9cda0e38",
   "metadata": {},
   "source": [
    "##### **Extracting Phenopackets and Creating a Target Matrix for Multiple Cohorts**\n",
    "The following demonstrates how to extract phenopackets for multiple target cohorts and create a binary target matrix indicating the presence of these cohorts."
   ]
  },
  {
   "cell_type": "code",
   "execution_count": 8,
   "id": "08adbe24",
   "metadata": {},
   "outputs": [],
   "source": [
    "target_cohort_names = 'FBN1'\n",
    "target_ppkts, non_target_ppkts = CohortDataLoader.partition_phenopackets_by_cohorts(target_cohort_names)\n",
    "all_ppkts = target_ppkts + non_target_ppkts\n",
    "\n",
    "external_target_matrix = pd.DataFrame(\n",
    "    data=[1]*len(target_ppkts) + [0]*len(non_target_ppkts),\n",
    "    index=[ppkt.id for ppkt in all_ppkts],\n",
    "    columns=[f\"is_{target_cohort_names}\"])"
   ]
  },
  {
   "cell_type": "markdown",
   "id": "9976a8eb",
   "metadata": {},
   "source": [
    "##### **Loading Data and Preparing HPO Matrices**"
   ]
  },
  {
   "cell_type": "code",
   "execution_count": 9,
   "id": "3352019e",
   "metadata": {},
   "outputs": [
    {
     "name": "stdout",
     "output_type": "stream",
     "text": [
      "Warning: failed to get ancestors for term HP:0030214: HP:0030214 is not present in the graph!\n",
      "Warning: failed to get descendants for term HP:0030214: HP:0030214 is not present in the graph!\n",
      "Warning: failed to get ancestors for term HP:0009062: HP:0009062 is not present in the graph!\n",
      "Warning: failed to get descendants for term HP:0009062: HP:0009062 is not present in the graph!\n",
      "Warning: failed to get ancestors for term HP:0005407: HP:0005407 is not present in the graph!\n",
      "Warning: failed to get descendants for term HP:0005407: HP:0005407 is not present in the graph!\n",
      "Warning: failed to get ancestors for term HP:0002355: HP:0002355 is not present in the graph!\n",
      "Warning: failed to get descendants for term HP:0002355: HP:0002355 is not present in the graph!\n",
      "Warning: failed to get ancestors for term HP:0012178: HP:0012178 is not present in the graph!\n",
      "Warning: failed to get descendants for term HP:0012178: HP:0012178 is not present in the graph!\n"
     ]
    }
   ],
   "source": [
    "all_hpo_matrix, all_target_matrix = PhenopacketMatrixProcessor.prepare_hpo_data(\n",
    "    phenopackets=all_ppkts, \n",
    "    external_target_matrix=external_target_matrix, \n",
    "    threshold=0, \n",
    "    mode=None, \n",
    "    use_label=True,\n",
    "    nan_strategy= None\n",
    ")\n",
    "\n",
    "target_hpo_matrix, target_target_matrix = PhenopacketMatrixProcessor.prepare_hpo_data(\n",
    "    phenopackets=target_ppkts,  \n",
    "    threshold=0, \n",
    "    mode=None, \n",
    "    use_label=True,\n",
    "    nan_strategy=None\n",
    ")\n",
    "\n",
    "common_columns = all_hpo_matrix[0].columns.intersection(target_hpo_matrix[0].columns)\n",
    "all_hpo_matrix_filtered = all_hpo_matrix[0][common_columns]"
   ]
  },
  {
   "cell_type": "markdown",
   "id": "b9cf8eb3",
   "metadata": {},
   "source": [
    "Select a target from following targets:"
   ]
  },
  {
   "cell_type": "code",
   "execution_count": 10,
   "id": "00f68b07",
   "metadata": {},
   "outputs": [
    {
     "data": {
      "text/plain": [
       "Index(['Apert syndrome', 'Acromicric dysplasia', 'Hajdu-Cheney syndrome',\n",
       "       'Severe combined immunodeficiency due to ADA deficiency',\n",
       "       'Tietz albinism-deafness syndrome', 'Pseudohypoparathyroidism Ia',\n",
       "       'Amelogenesis imperfecta, type IA', 'Amyloidosis, Finnish type',\n",
       "       'Amyotrophic lateral sclerosis 1', 'Diamond-Blackfan anemia 1',\n",
       "       ...\n",
       "       'Ovarian dysgenesis 11',\n",
       "       'Immunodeficiency 123 with HPV-related verrucosis',\n",
       "       'Polycystic kidney disease 8',\n",
       "       'Spastic paraplegia 93, autosomal recessive',\n",
       "       'Intellectual developmental disorder, autosomal dominant 75',\n",
       "       'Spermatogenic failure 96', 'Premature ovarian failure 25',\n",
       "       'Basal ganglia calcification, idiopathic, 10, autosomal recessive',\n",
       "       'sex', 'is_FBN1'],\n",
       "      dtype='object', length=518)"
      ]
     },
     "execution_count": 10,
     "metadata": {},
     "output_type": "execute_result"
    }
   ],
   "source": [
    "all_target_matrix.columns"
   ]
  },
  {
   "cell_type": "markdown",
   "id": "3730abd3",
   "metadata": {},
   "source": [
    "##### **Pairwise Synergy Analysis and Ploting**"
   ]
  },
  {
   "cell_type": "code",
   "execution_count": 11,
   "id": "39e97bde",
   "metadata": {},
   "outputs": [
    {
     "data": {
      "application/vnd.plotly.v1+json": {
       "config": {
        "plotlyServerURL": "https://plot.ly"
       },
       "data": [
        {
         "colorbar": {
          "len": 0.8,
          "thickness": 28,
          "title": {
           "text": "Synergy"
          }
         },
         "colorscale": [
          [
           0,
           "rgb(247,251,255)"
          ],
          [
           0.125,
           "rgb(222,235,247)"
          ],
          [
           0.25,
           "rgb(198,219,239)"
          ],
          [
           0.375,
           "rgb(158,202,225)"
          ],
          [
           0.5,
           "rgb(107,174,214)"
          ],
          [
           0.625,
           "rgb(66,146,198)"
          ],
          [
           0.75,
           "rgb(33,113,181)"
          ],
          [
           0.875,
           "rgb(8,81,156)"
          ],
          [
           1,
           "rgb(8,48,107)"
          ]
         ],
         "hoverinfo": "text",
         "hovertext": [
          [
           "",
           "",
           "",
           "",
           "",
           "",
           "",
           "",
           "",
           "",
           "",
           "<b>X</b>: Joint hypermobility<br><b>Y</b>: Tall stature<br><b>Corr</b>: 0.05<br><b>p-val</b>: 0.000000",
           "",
           "",
           "",
           "",
           "",
           "",
           "",
           "",
           "",
           "",
           ""
          ],
          [
           "",
           "",
           "",
           "",
           "",
           "",
           "",
           "<b>X</b>: Dental crowding<br><b>Y</b>: High palate<br><b>Corr</b>: 0.11<br><b>p-val</b>: 0.000000",
           "",
           "",
           "",
           "",
           "",
           "",
           "",
           "",
           "",
           "",
           "",
           "",
           "",
           "",
           ""
          ],
          [
           "",
           "",
           "",
           "",
           "<b>X</b>: Deeply set eye<br><b>Y</b>: Dolichocephaly<br><b>Corr</b>: 0.07<br><b>p-val</b>: 0.017000",
           "",
           "",
           "",
           "",
           "",
           "",
           "",
           "",
           "",
           "",
           "",
           "",
           "",
           "",
           "",
           "",
           "",
           ""
          ],
          [
           "",
           "",
           "",
           "",
           "",
           "",
           "",
           "",
           "",
           "",
           "",
           "",
           "",
           "",
           "",
           "",
           "",
           "",
           "",
           "",
           "<b>X</b>: Relative macrocephaly<br><b>Y</b>: Low-set ears<br><b>Corr</b>: 0.14<br><b>p-val</b>: 0.001000",
           "",
           ""
          ],
          [
           "",
           "",
           "<b>X</b>: Dolichocephaly<br><b>Y</b>: Deeply set eye<br><b>Corr</b>: 0.07<br><b>p-val</b>: 0.017000",
           "",
           "",
           "",
           "",
           "",
           "",
           "",
           "",
           "",
           "",
           "<b>X</b>: Mitral valve prolapse<br><b>Y</b>: Deeply set eye<br><b>Corr</b>: 0.07<br><b>p-val</b>: 0.061000",
           "",
           "",
           "",
           "",
           "",
           "",
           "",
           "",
           ""
          ],
          [
           "",
           "",
           "",
           "",
           "",
           "",
           "",
           "",
           "",
           "",
           "",
           "",
           "",
           "",
           "",
           "",
           "<b>X</b>: Aortic root aneurysm<br><b>Y</b>: Downslanted palpebral fissures<br><b>Corr</b>: 0.05<br><b>p-val</b>: 0.017000",
           "",
           "",
           "",
           "",
           "",
           ""
          ],
          [
           "",
           "",
           "",
           "",
           "",
           "",
           "",
           "",
           "",
           "",
           "",
           "",
           "",
           "<b>X</b>: Mitral valve prolapse<br><b>Y</b>: Myopia<br><b>Corr</b>: 0.07<br><b>p-val</b>: 0.007000",
           "<b>X</b>: Mitral regurgitation<br><b>Y</b>: Myopia<br><b>Corr</b>: 0.13<br><b>p-val</b>: 0.000000",
           "",
           "",
           "",
           "",
           "",
           "",
           "",
           ""
          ],
          [
           "",
           "<b>X</b>: High palate<br><b>Y</b>: Dental crowding<br><b>Corr</b>: 0.11<br><b>p-val</b>: 0.000000",
           "",
           "",
           "",
           "",
           "",
           "",
           "",
           "",
           "",
           "",
           "",
           "",
           "",
           "",
           "",
           "",
           "",
           "",
           "",
           "",
           ""
          ],
          [
           "",
           "",
           "",
           "",
           "",
           "",
           "",
           "",
           "",
           "",
           "",
           "",
           "",
           "",
           "",
           "",
           "",
           "",
           "",
           "",
           "<b>X</b>: Relative macrocephaly<br><b>Y</b>: Pectus excavatum<br><b>Corr</b>: 0.05<br><b>p-val</b>: 0.092000",
           "",
           ""
          ],
          [
           "",
           "",
           "",
           "",
           "",
           "",
           "",
           "",
           "",
           "",
           "",
           "",
           "<b>X</b>: Disproportionate tall stature<br><b>Y</b>: Striae distensae<br><b>Corr</b>: 0.08<br><b>p-val</b>: 0.002000",
           "",
           "",
           "",
           "",
           "",
           "",
           "",
           "",
           "",
           ""
          ],
          [
           "",
           "",
           "",
           "",
           "",
           "",
           "",
           "",
           "",
           "",
           "",
           "",
           "",
           "",
           "",
           "",
           "<b>X</b>: Aortic root aneurysm<br><b>Y</b>: Arachnodactyly<br><b>Corr</b>: 0.06<br><b>p-val</b>: 0.000000",
           "",
           "",
           "",
           "",
           "<b>X</b>: Ascending aortic dissection<br><b>Y</b>: Arachnodactyly<br><b>Corr</b>: 0.05<br><b>p-val</b>: 0.029000",
           "<b>X</b>: Camptodactyly<br><b>Y</b>: Arachnodactyly<br><b>Corr</b>: 0.11<br><b>p-val</b>: 0.000000"
          ],
          [
           "<b>X</b>: Tall stature<br><b>Y</b>: Joint hypermobility<br><b>Corr</b>: 0.05<br><b>p-val</b>: 0.000000",
           "",
           "",
           "",
           "",
           "",
           "",
           "",
           "",
           "",
           "",
           "",
           "",
           "",
           "",
           "",
           "",
           "",
           "<b>X</b>: Short nose<br><b>Y</b>: Joint hypermobility<br><b>Corr</b>: 0.09<br><b>p-val</b>: 0.000000",
           "",
           "",
           "",
           ""
          ],
          [
           "",
           "",
           "",
           "",
           "",
           "",
           "",
           "",
           "",
           "<b>X</b>: Striae distensae<br><b>Y</b>: Disproportionate tall stature<br><b>Corr</b>: 0.08<br><b>p-val</b>: 0.002000",
           "",
           "",
           "",
           "",
           "",
           "",
           "",
           "",
           "",
           "",
           "",
           "",
           ""
          ],
          [
           "",
           "",
           "",
           "",
           "<b>X</b>: Deeply set eye<br><b>Y</b>: Mitral valve prolapse<br><b>Corr</b>: 0.07<br><b>p-val</b>: 0.061000",
           "",
           "<b>X</b>: Myopia<br><b>Y</b>: Mitral valve prolapse<br><b>Corr</b>: 0.07<br><b>p-val</b>: 0.007000",
           "",
           "",
           "",
           "",
           "",
           "",
           "",
           "",
           "<b>X</b>: Mitral stenosis<br><b>Y</b>: Mitral valve prolapse<br><b>Corr</b>: 0.07<br><b>p-val</b>: 0.025000",
           "",
           "",
           "",
           "",
           "",
           "",
           ""
          ],
          [
           "",
           "",
           "",
           "",
           "",
           "",
           "<b>X</b>: Myopia<br><b>Y</b>: Mitral regurgitation<br><b>Corr</b>: 0.13<br><b>p-val</b>: 0.000000",
           "",
           "",
           "",
           "",
           "",
           "",
           "",
           "",
           "",
           "",
           "",
           "",
           "",
           "",
           "",
           ""
          ],
          [
           "",
           "",
           "",
           "",
           "",
           "",
           "",
           "",
           "",
           "",
           "",
           "",
           "",
           "<b>X</b>: Mitral valve prolapse<br><b>Y</b>: Mitral stenosis<br><b>Corr</b>: 0.07<br><b>p-val</b>: 0.025000",
           "",
           "",
           "",
           "",
           "",
           "",
           "",
           "",
           ""
          ],
          [
           "",
           "",
           "",
           "",
           "",
           "<b>X</b>: Downslanted palpebral fissures<br><b>Y</b>: Aortic root aneurysm<br><b>Corr</b>: 0.05<br><b>p-val</b>: 0.017000",
           "",
           "",
           "",
           "",
           "<b>X</b>: Arachnodactyly<br><b>Y</b>: Aortic root aneurysm<br><b>Corr</b>: 0.06<br><b>p-val</b>: 0.000000",
           "",
           "",
           "",
           "",
           "",
           "",
           "",
           "",
           "",
           "",
           "",
           ""
          ],
          [
           "",
           "",
           "",
           "",
           "",
           "",
           "",
           "",
           "",
           "",
           "",
           "",
           "",
           "",
           "",
           "",
           "",
           "",
           "",
           "<b>X</b>: Short stature<br><b>Y</b>: Kyphoscoliosis<br><b>Corr</b>: 0.07<br><b>p-val</b>: 0.017000",
           "",
           "",
           ""
          ],
          [
           "",
           "",
           "",
           "",
           "",
           "",
           "",
           "",
           "",
           "",
           "",
           "<b>X</b>: Joint hypermobility<br><b>Y</b>: Short nose<br><b>Corr</b>: 0.09<br><b>p-val</b>: 0.000000",
           "",
           "",
           "",
           "",
           "",
           "",
           "",
           "",
           "",
           "",
           ""
          ],
          [
           "",
           "",
           "",
           "",
           "",
           "",
           "",
           "",
           "",
           "",
           "",
           "",
           "",
           "",
           "",
           "",
           "",
           "<b>X</b>: Kyphoscoliosis<br><b>Y</b>: Short stature<br><b>Corr</b>: 0.07<br><b>p-val</b>: 0.017000",
           "",
           "",
           "",
           "",
           ""
          ],
          [
           "",
           "",
           "",
           "<b>X</b>: Low-set ears<br><b>Y</b>: Relative macrocephaly<br><b>Corr</b>: 0.14<br><b>p-val</b>: 0.001000",
           "",
           "",
           "",
           "",
           "<b>X</b>: Pectus excavatum<br><b>Y</b>: Relative macrocephaly<br><b>Corr</b>: 0.05<br><b>p-val</b>: 0.092000",
           "",
           "",
           "",
           "",
           "",
           "",
           "",
           "",
           "",
           "",
           "",
           "",
           "",
           ""
          ],
          [
           "",
           "",
           "",
           "",
           "",
           "",
           "",
           "",
           "",
           "",
           "<b>X</b>: Arachnodactyly<br><b>Y</b>: Ascending aortic dissection<br><b>Corr</b>: 0.05<br><b>p-val</b>: 0.029000",
           "",
           "",
           "",
           "",
           "",
           "",
           "",
           "",
           "",
           "",
           "",
           ""
          ],
          [
           "",
           "",
           "",
           "",
           "",
           "",
           "",
           "",
           "",
           "",
           "<b>X</b>: Arachnodactyly<br><b>Y</b>: Camptodactyly<br><b>Corr</b>: 0.11<br><b>p-val</b>: 0.000000",
           "",
           "",
           "",
           "",
           "",
           "",
           "",
           "",
           "",
           "",
           "",
           ""
          ]
         ],
         "text": [
          [
           "",
           "",
           "",
           "",
           "",
           "",
           "",
           "",
           "",
           "",
           "",
           "0.05",
           "",
           "",
           "",
           "",
           "",
           "",
           "",
           "",
           "",
           "",
           ""
          ],
          [
           "",
           "",
           "",
           "",
           "",
           "",
           "",
           "0.11",
           "",
           "",
           "",
           "",
           "",
           "",
           "",
           "",
           "",
           "",
           "",
           "",
           "",
           "",
           ""
          ],
          [
           "",
           "",
           "",
           "",
           "0.07",
           "",
           "",
           "",
           "",
           "",
           "",
           "",
           "",
           "",
           "",
           "",
           "",
           "",
           "",
           "",
           "",
           "",
           ""
          ],
          [
           "",
           "",
           "",
           "",
           "",
           "",
           "",
           "",
           "",
           "",
           "",
           "",
           "",
           "",
           "",
           "",
           "",
           "",
           "",
           "",
           "0.14",
           "",
           ""
          ],
          [
           "",
           "",
           "0.07",
           "",
           "",
           "",
           "",
           "",
           "",
           "",
           "",
           "",
           "",
           "0.07",
           "",
           "",
           "",
           "",
           "",
           "",
           "",
           "",
           ""
          ],
          [
           "",
           "",
           "",
           "",
           "",
           "",
           "",
           "",
           "",
           "",
           "",
           "",
           "",
           "",
           "",
           "",
           "0.05",
           "",
           "",
           "",
           "",
           "",
           ""
          ],
          [
           "",
           "",
           "",
           "",
           "",
           "",
           "",
           "",
           "",
           "",
           "",
           "",
           "",
           "0.07",
           "0.13",
           "",
           "",
           "",
           "",
           "",
           "",
           "",
           ""
          ],
          [
           "",
           "0.11",
           "",
           "",
           "",
           "",
           "",
           "",
           "",
           "",
           "",
           "",
           "",
           "",
           "",
           "",
           "",
           "",
           "",
           "",
           "",
           "",
           ""
          ],
          [
           "",
           "",
           "",
           "",
           "",
           "",
           "",
           "",
           "",
           "",
           "",
           "",
           "",
           "",
           "",
           "",
           "",
           "",
           "",
           "",
           "0.05",
           "",
           ""
          ],
          [
           "",
           "",
           "",
           "",
           "",
           "",
           "",
           "",
           "",
           "",
           "",
           "",
           "0.08",
           "",
           "",
           "",
           "",
           "",
           "",
           "",
           "",
           "",
           ""
          ],
          [
           "",
           "",
           "",
           "",
           "",
           "",
           "",
           "",
           "",
           "",
           "",
           "",
           "",
           "",
           "",
           "",
           "0.06",
           "",
           "",
           "",
           "",
           "0.05",
           "0.11"
          ],
          [
           "0.05",
           "",
           "",
           "",
           "",
           "",
           "",
           "",
           "",
           "",
           "",
           "",
           "",
           "",
           "",
           "",
           "",
           "",
           "0.09",
           "",
           "",
           "",
           ""
          ],
          [
           "",
           "",
           "",
           "",
           "",
           "",
           "",
           "",
           "",
           "0.08",
           "",
           "",
           "",
           "",
           "",
           "",
           "",
           "",
           "",
           "",
           "",
           "",
           ""
          ],
          [
           "",
           "",
           "",
           "",
           "0.07",
           "",
           "0.07",
           "",
           "",
           "",
           "",
           "",
           "",
           "",
           "",
           "0.07",
           "",
           "",
           "",
           "",
           "",
           "",
           ""
          ],
          [
           "",
           "",
           "",
           "",
           "",
           "",
           "0.13",
           "",
           "",
           "",
           "",
           "",
           "",
           "",
           "",
           "",
           "",
           "",
           "",
           "",
           "",
           "",
           ""
          ],
          [
           "",
           "",
           "",
           "",
           "",
           "",
           "",
           "",
           "",
           "",
           "",
           "",
           "",
           "0.07",
           "",
           "",
           "",
           "",
           "",
           "",
           "",
           "",
           ""
          ],
          [
           "",
           "",
           "",
           "",
           "",
           "0.05",
           "",
           "",
           "",
           "",
           "0.06",
           "",
           "",
           "",
           "",
           "",
           "",
           "",
           "",
           "",
           "",
           "",
           ""
          ],
          [
           "",
           "",
           "",
           "",
           "",
           "",
           "",
           "",
           "",
           "",
           "",
           "",
           "",
           "",
           "",
           "",
           "",
           "",
           "",
           "0.07",
           "",
           "",
           ""
          ],
          [
           "",
           "",
           "",
           "",
           "",
           "",
           "",
           "",
           "",
           "",
           "",
           "0.09",
           "",
           "",
           "",
           "",
           "",
           "",
           "",
           "",
           "",
           "",
           ""
          ],
          [
           "",
           "",
           "",
           "",
           "",
           "",
           "",
           "",
           "",
           "",
           "",
           "",
           "",
           "",
           "",
           "",
           "",
           "0.07",
           "",
           "",
           "",
           "",
           ""
          ],
          [
           "",
           "",
           "",
           "0.14",
           "",
           "",
           "",
           "",
           "0.05",
           "",
           "",
           "",
           "",
           "",
           "",
           "",
           "",
           "",
           "",
           "",
           "",
           "",
           ""
          ],
          [
           "",
           "",
           "",
           "",
           "",
           "",
           "",
           "",
           "",
           "",
           "0.05",
           "",
           "",
           "",
           "",
           "",
           "",
           "",
           "",
           "",
           "",
           "",
           ""
          ],
          [
           "",
           "",
           "",
           "",
           "",
           "",
           "",
           "",
           "",
           "",
           "0.11",
           "",
           "",
           "",
           "",
           "",
           "",
           "",
           "",
           "",
           "",
           "",
           ""
          ]
         ],
         "texttemplate": "<span style='font-size:10px'>%{text}</span>",
         "type": "heatmap",
         "x": [
          "Tall stature",
          "High palate",
          "Dolichocephaly",
          "Low-set ears",
          "Deeply set eye",
          "Downslanted palpebral fissures",
          "Myopia",
          "Dental crowding",
          "Pectus excavatum",
          "Striae distensae",
          "Arachnodactyly",
          "Joint hypermobility",
          "Disproportionate tall stature",
          "Mitral valve prolapse",
          "Mitral regurgitation",
          "Mitral stenosis",
          "Aortic root aneurysm",
          "Kyphoscoliosis",
          "Short nose",
          "Short stature",
          "Relative macrocephaly",
          "Ascending aortic dissection",
          "Camptodactyly"
         ],
         "xgap": 1,
         "y": [
          "Tall stature",
          "High palate",
          "Dolichocephaly",
          "Low-set ears",
          "Deeply set eye",
          "Downslanted palpebral fissures",
          "Myopia",
          "Dental crowding",
          "Pectus excavatum",
          "Striae distensae",
          "Arachnodactyly",
          "Joint hypermobility",
          "Disproportionate tall stature",
          "Mitral valve prolapse",
          "Mitral regurgitation",
          "Mitral stenosis",
          "Aortic root aneurysm",
          "Kyphoscoliosis",
          "Short nose",
          "Short stature",
          "Relative macrocephaly",
          "Ascending aortic dissection",
          "Camptodactyly"
         ],
         "ygap": 1,
         "z": [
          [
           0,
           0,
           0,
           0,
           0,
           0,
           0,
           0,
           0,
           0,
           0,
           0.053376872344829386,
           0,
           0,
           0,
           0,
           0,
           0,
           0,
           0,
           0,
           0,
           0
          ],
          [
           0,
           0,
           0,
           0,
           0,
           0,
           0,
           0.10675894857701376,
           0,
           0,
           0,
           0,
           0,
           0,
           0,
           0,
           0,
           0,
           0,
           0,
           0,
           0,
           0
          ],
          [
           0,
           0,
           0,
           0,
           0.0682200708227336,
           0,
           0,
           0,
           0,
           0,
           0,
           0,
           0,
           0,
           0,
           0,
           0,
           0,
           0,
           0,
           0,
           0,
           0
          ],
          [
           0,
           0,
           0,
           0,
           0,
           0,
           0,
           0,
           0,
           0,
           0,
           0,
           0,
           0,
           0,
           0,
           0,
           0,
           0,
           0,
           0.14181070420875133,
           0,
           0
          ],
          [
           0,
           0,
           0.0682200708227336,
           0,
           0,
           0,
           0,
           0,
           0,
           0,
           0,
           0,
           0,
           0.06624865440959427,
           0,
           0,
           0,
           0,
           0,
           0,
           0,
           0,
           0
          ],
          [
           0,
           0,
           0,
           0,
           0,
           0,
           0,
           0,
           0,
           0,
           0,
           0,
           0,
           0,
           0,
           0,
           0.050695158223401066,
           0,
           0,
           0,
           0,
           0,
           0
          ],
          [
           0,
           0,
           0,
           0,
           0,
           0,
           0,
           0,
           0,
           0,
           0,
           0,
           0,
           0.0687679631788417,
           0.12747788117996656,
           0,
           0,
           0,
           0,
           0,
           0,
           0,
           0
          ],
          [
           0,
           0.10675894857701376,
           0,
           0,
           0,
           0,
           0,
           0,
           0,
           0,
           0,
           0,
           0,
           0,
           0,
           0,
           0,
           0,
           0,
           0,
           0,
           0,
           0
          ],
          [
           0,
           0,
           0,
           0,
           0,
           0,
           0,
           0,
           0,
           0,
           0,
           0,
           0,
           0,
           0,
           0,
           0,
           0,
           0,
           0,
           0.05038458520402629,
           0,
           0
          ],
          [
           0,
           0,
           0,
           0,
           0,
           0,
           0,
           0,
           0,
           0,
           0,
           0,
           0.08146046086873504,
           0,
           0,
           0,
           0,
           0,
           0,
           0,
           0,
           0,
           0
          ],
          [
           0,
           0,
           0,
           0,
           0,
           0,
           0,
           0,
           0,
           0,
           0,
           0,
           0,
           0,
           0,
           0,
           0.06021704363958466,
           0,
           0,
           0,
           0,
           0.05059059973523737,
           0.10508983451123767
          ],
          [
           0.053376872344829386,
           0,
           0,
           0,
           0,
           0,
           0,
           0,
           0,
           0,
           0,
           0,
           0,
           0,
           0,
           0,
           0,
           0,
           0.08816044545467001,
           0,
           0,
           0,
           0
          ],
          [
           0,
           0,
           0,
           0,
           0,
           0,
           0,
           0,
           0,
           0.08146046086873504,
           0,
           0,
           0,
           0,
           0,
           0,
           0,
           0,
           0,
           0,
           0,
           0,
           0
          ],
          [
           0,
           0,
           0,
           0,
           0.06624865440959427,
           0,
           0.0687679631788417,
           0,
           0,
           0,
           0,
           0,
           0,
           0,
           0,
           0.06860988316572345,
           0,
           0,
           0,
           0,
           0,
           0,
           0
          ],
          [
           0,
           0,
           0,
           0,
           0,
           0,
           0.12747788117996656,
           0,
           0,
           0,
           0,
           0,
           0,
           0,
           0,
           0,
           0,
           0,
           0,
           0,
           0,
           0,
           0
          ],
          [
           0,
           0,
           0,
           0,
           0,
           0,
           0,
           0,
           0,
           0,
           0,
           0,
           0,
           0.06860988316572345,
           0,
           0,
           0,
           0,
           0,
           0,
           0,
           0,
           0
          ],
          [
           0,
           0,
           0,
           0,
           0,
           0.050695158223401066,
           0,
           0,
           0,
           0,
           0.06021704363958466,
           0,
           0,
           0,
           0,
           0,
           0,
           0,
           0,
           0,
           0,
           0,
           0
          ],
          [
           0,
           0,
           0,
           0,
           0,
           0,
           0,
           0,
           0,
           0,
           0,
           0,
           0,
           0,
           0,
           0,
           0,
           0,
           0,
           0.07452727883902077,
           0,
           0,
           0
          ],
          [
           0,
           0,
           0,
           0,
           0,
           0,
           0,
           0,
           0,
           0,
           0,
           0.08816044545467001,
           0,
           0,
           0,
           0,
           0,
           0,
           0,
           0,
           0,
           0,
           0
          ],
          [
           0,
           0,
           0,
           0,
           0,
           0,
           0,
           0,
           0,
           0,
           0,
           0,
           0,
           0,
           0,
           0,
           0,
           0.07452727883902077,
           0,
           0,
           0,
           0,
           0
          ],
          [
           0,
           0,
           0,
           0.14181070420875133,
           0,
           0,
           0,
           0,
           0.05038458520402629,
           0,
           0,
           0,
           0,
           0,
           0,
           0,
           0,
           0,
           0,
           0,
           0,
           0,
           0
          ],
          [
           0,
           0,
           0,
           0,
           0,
           0,
           0,
           0,
           0,
           0,
           0.05059059973523737,
           0,
           0,
           0,
           0,
           0,
           0,
           0,
           0,
           0,
           0,
           0,
           0
          ],
          [
           0,
           0,
           0,
           0,
           0,
           0,
           0,
           0,
           0,
           0,
           0.10508983451123767,
           0,
           0,
           0,
           0,
           0,
           0,
           0,
           0,
           0,
           0,
           0,
           0
          ]
         ],
         "zmax": 0.14181070420875133,
         "zmid": 0,
         "zmin": 0
        }
       ],
       "layout": {
        "height": 1560,
        "plot_bgcolor": "rgba(240,240,240,0.1)",
        "template": {
         "data": {
          "bar": [
           {
            "error_x": {
             "color": "#2a3f5f"
            },
            "error_y": {
             "color": "#2a3f5f"
            },
            "marker": {
             "line": {
              "color": "#E5ECF6",
              "width": 0.5
             },
             "pattern": {
              "fillmode": "overlay",
              "size": 10,
              "solidity": 0.2
             }
            },
            "type": "bar"
           }
          ],
          "barpolar": [
           {
            "marker": {
             "line": {
              "color": "#E5ECF6",
              "width": 0.5
             },
             "pattern": {
              "fillmode": "overlay",
              "size": 10,
              "solidity": 0.2
             }
            },
            "type": "barpolar"
           }
          ],
          "carpet": [
           {
            "aaxis": {
             "endlinecolor": "#2a3f5f",
             "gridcolor": "white",
             "linecolor": "white",
             "minorgridcolor": "white",
             "startlinecolor": "#2a3f5f"
            },
            "baxis": {
             "endlinecolor": "#2a3f5f",
             "gridcolor": "white",
             "linecolor": "white",
             "minorgridcolor": "white",
             "startlinecolor": "#2a3f5f"
            },
            "type": "carpet"
           }
          ],
          "choropleth": [
           {
            "colorbar": {
             "outlinewidth": 0,
             "ticks": ""
            },
            "type": "choropleth"
           }
          ],
          "contour": [
           {
            "colorbar": {
             "outlinewidth": 0,
             "ticks": ""
            },
            "colorscale": [
             [
              0,
              "#0d0887"
             ],
             [
              0.1111111111111111,
              "#46039f"
             ],
             [
              0.2222222222222222,
              "#7201a8"
             ],
             [
              0.3333333333333333,
              "#9c179e"
             ],
             [
              0.4444444444444444,
              "#bd3786"
             ],
             [
              0.5555555555555556,
              "#d8576b"
             ],
             [
              0.6666666666666666,
              "#ed7953"
             ],
             [
              0.7777777777777778,
              "#fb9f3a"
             ],
             [
              0.8888888888888888,
              "#fdca26"
             ],
             [
              1,
              "#f0f921"
             ]
            ],
            "type": "contour"
           }
          ],
          "contourcarpet": [
           {
            "colorbar": {
             "outlinewidth": 0,
             "ticks": ""
            },
            "type": "contourcarpet"
           }
          ],
          "heatmap": [
           {
            "colorbar": {
             "outlinewidth": 0,
             "ticks": ""
            },
            "colorscale": [
             [
              0,
              "#0d0887"
             ],
             [
              0.1111111111111111,
              "#46039f"
             ],
             [
              0.2222222222222222,
              "#7201a8"
             ],
             [
              0.3333333333333333,
              "#9c179e"
             ],
             [
              0.4444444444444444,
              "#bd3786"
             ],
             [
              0.5555555555555556,
              "#d8576b"
             ],
             [
              0.6666666666666666,
              "#ed7953"
             ],
             [
              0.7777777777777778,
              "#fb9f3a"
             ],
             [
              0.8888888888888888,
              "#fdca26"
             ],
             [
              1,
              "#f0f921"
             ]
            ],
            "type": "heatmap"
           }
          ],
          "heatmapgl": [
           {
            "colorbar": {
             "outlinewidth": 0,
             "ticks": ""
            },
            "colorscale": [
             [
              0,
              "#0d0887"
             ],
             [
              0.1111111111111111,
              "#46039f"
             ],
             [
              0.2222222222222222,
              "#7201a8"
             ],
             [
              0.3333333333333333,
              "#9c179e"
             ],
             [
              0.4444444444444444,
              "#bd3786"
             ],
             [
              0.5555555555555556,
              "#d8576b"
             ],
             [
              0.6666666666666666,
              "#ed7953"
             ],
             [
              0.7777777777777778,
              "#fb9f3a"
             ],
             [
              0.8888888888888888,
              "#fdca26"
             ],
             [
              1,
              "#f0f921"
             ]
            ],
            "type": "heatmapgl"
           }
          ],
          "histogram": [
           {
            "marker": {
             "pattern": {
              "fillmode": "overlay",
              "size": 10,
              "solidity": 0.2
             }
            },
            "type": "histogram"
           }
          ],
          "histogram2d": [
           {
            "colorbar": {
             "outlinewidth": 0,
             "ticks": ""
            },
            "colorscale": [
             [
              0,
              "#0d0887"
             ],
             [
              0.1111111111111111,
              "#46039f"
             ],
             [
              0.2222222222222222,
              "#7201a8"
             ],
             [
              0.3333333333333333,
              "#9c179e"
             ],
             [
              0.4444444444444444,
              "#bd3786"
             ],
             [
              0.5555555555555556,
              "#d8576b"
             ],
             [
              0.6666666666666666,
              "#ed7953"
             ],
             [
              0.7777777777777778,
              "#fb9f3a"
             ],
             [
              0.8888888888888888,
              "#fdca26"
             ],
             [
              1,
              "#f0f921"
             ]
            ],
            "type": "histogram2d"
           }
          ],
          "histogram2dcontour": [
           {
            "colorbar": {
             "outlinewidth": 0,
             "ticks": ""
            },
            "colorscale": [
             [
              0,
              "#0d0887"
             ],
             [
              0.1111111111111111,
              "#46039f"
             ],
             [
              0.2222222222222222,
              "#7201a8"
             ],
             [
              0.3333333333333333,
              "#9c179e"
             ],
             [
              0.4444444444444444,
              "#bd3786"
             ],
             [
              0.5555555555555556,
              "#d8576b"
             ],
             [
              0.6666666666666666,
              "#ed7953"
             ],
             [
              0.7777777777777778,
              "#fb9f3a"
             ],
             [
              0.8888888888888888,
              "#fdca26"
             ],
             [
              1,
              "#f0f921"
             ]
            ],
            "type": "histogram2dcontour"
           }
          ],
          "mesh3d": [
           {
            "colorbar": {
             "outlinewidth": 0,
             "ticks": ""
            },
            "type": "mesh3d"
           }
          ],
          "parcoords": [
           {
            "line": {
             "colorbar": {
              "outlinewidth": 0,
              "ticks": ""
             }
            },
            "type": "parcoords"
           }
          ],
          "pie": [
           {
            "automargin": true,
            "type": "pie"
           }
          ],
          "scatter": [
           {
            "fillpattern": {
             "fillmode": "overlay",
             "size": 10,
             "solidity": 0.2
            },
            "type": "scatter"
           }
          ],
          "scatter3d": [
           {
            "line": {
             "colorbar": {
              "outlinewidth": 0,
              "ticks": ""
             }
            },
            "marker": {
             "colorbar": {
              "outlinewidth": 0,
              "ticks": ""
             }
            },
            "type": "scatter3d"
           }
          ],
          "scattercarpet": [
           {
            "marker": {
             "colorbar": {
              "outlinewidth": 0,
              "ticks": ""
             }
            },
            "type": "scattercarpet"
           }
          ],
          "scattergeo": [
           {
            "marker": {
             "colorbar": {
              "outlinewidth": 0,
              "ticks": ""
             }
            },
            "type": "scattergeo"
           }
          ],
          "scattergl": [
           {
            "marker": {
             "colorbar": {
              "outlinewidth": 0,
              "ticks": ""
             }
            },
            "type": "scattergl"
           }
          ],
          "scattermapbox": [
           {
            "marker": {
             "colorbar": {
              "outlinewidth": 0,
              "ticks": ""
             }
            },
            "type": "scattermapbox"
           }
          ],
          "scatterpolar": [
           {
            "marker": {
             "colorbar": {
              "outlinewidth": 0,
              "ticks": ""
             }
            },
            "type": "scatterpolar"
           }
          ],
          "scatterpolargl": [
           {
            "marker": {
             "colorbar": {
              "outlinewidth": 0,
              "ticks": ""
             }
            },
            "type": "scatterpolargl"
           }
          ],
          "scatterternary": [
           {
            "marker": {
             "colorbar": {
              "outlinewidth": 0,
              "ticks": ""
             }
            },
            "type": "scatterternary"
           }
          ],
          "surface": [
           {
            "colorbar": {
             "outlinewidth": 0,
             "ticks": ""
            },
            "colorscale": [
             [
              0,
              "#0d0887"
             ],
             [
              0.1111111111111111,
              "#46039f"
             ],
             [
              0.2222222222222222,
              "#7201a8"
             ],
             [
              0.3333333333333333,
              "#9c179e"
             ],
             [
              0.4444444444444444,
              "#bd3786"
             ],
             [
              0.5555555555555556,
              "#d8576b"
             ],
             [
              0.6666666666666666,
              "#ed7953"
             ],
             [
              0.7777777777777778,
              "#fb9f3a"
             ],
             [
              0.8888888888888888,
              "#fdca26"
             ],
             [
              1,
              "#f0f921"
             ]
            ],
            "type": "surface"
           }
          ],
          "table": [
           {
            "cells": {
             "fill": {
              "color": "#EBF0F8"
             },
             "line": {
              "color": "white"
             }
            },
            "header": {
             "fill": {
              "color": "#C8D4E3"
             },
             "line": {
              "color": "white"
             }
            },
            "type": "table"
           }
          ]
         },
         "layout": {
          "annotationdefaults": {
           "arrowcolor": "#2a3f5f",
           "arrowhead": 0,
           "arrowwidth": 1
          },
          "autotypenumbers": "strict",
          "coloraxis": {
           "colorbar": {
            "outlinewidth": 0,
            "ticks": ""
           }
          },
          "colorscale": {
           "diverging": [
            [
             0,
             "#8e0152"
            ],
            [
             0.1,
             "#c51b7d"
            ],
            [
             0.2,
             "#de77ae"
            ],
            [
             0.3,
             "#f1b6da"
            ],
            [
             0.4,
             "#fde0ef"
            ],
            [
             0.5,
             "#f7f7f7"
            ],
            [
             0.6,
             "#e6f5d0"
            ],
            [
             0.7,
             "#b8e186"
            ],
            [
             0.8,
             "#7fbc41"
            ],
            [
             0.9,
             "#4d9221"
            ],
            [
             1,
             "#276419"
            ]
           ],
           "sequential": [
            [
             0,
             "#0d0887"
            ],
            [
             0.1111111111111111,
             "#46039f"
            ],
            [
             0.2222222222222222,
             "#7201a8"
            ],
            [
             0.3333333333333333,
             "#9c179e"
            ],
            [
             0.4444444444444444,
             "#bd3786"
            ],
            [
             0.5555555555555556,
             "#d8576b"
            ],
            [
             0.6666666666666666,
             "#ed7953"
            ],
            [
             0.7777777777777778,
             "#fb9f3a"
            ],
            [
             0.8888888888888888,
             "#fdca26"
            ],
            [
             1,
             "#f0f921"
            ]
           ],
           "sequentialminus": [
            [
             0,
             "#0d0887"
            ],
            [
             0.1111111111111111,
             "#46039f"
            ],
            [
             0.2222222222222222,
             "#7201a8"
            ],
            [
             0.3333333333333333,
             "#9c179e"
            ],
            [
             0.4444444444444444,
             "#bd3786"
            ],
            [
             0.5555555555555556,
             "#d8576b"
            ],
            [
             0.6666666666666666,
             "#ed7953"
            ],
            [
             0.7777777777777778,
             "#fb9f3a"
            ],
            [
             0.8888888888888888,
             "#fdca26"
            ],
            [
             1,
             "#f0f921"
            ]
           ]
          },
          "colorway": [
           "#636efa",
           "#EF553B",
           "#00cc96",
           "#ab63fa",
           "#FFA15A",
           "#19d3f3",
           "#FF6692",
           "#B6E880",
           "#FF97FF",
           "#FECB52"
          ],
          "font": {
           "color": "#2a3f5f"
          },
          "geo": {
           "bgcolor": "white",
           "lakecolor": "white",
           "landcolor": "#E5ECF6",
           "showlakes": true,
           "showland": true,
           "subunitcolor": "white"
          },
          "hoverlabel": {
           "align": "left"
          },
          "hovermode": "closest",
          "mapbox": {
           "style": "light"
          },
          "paper_bgcolor": "white",
          "plot_bgcolor": "#E5ECF6",
          "polar": {
           "angularaxis": {
            "gridcolor": "white",
            "linecolor": "white",
            "ticks": ""
           },
           "bgcolor": "#E5ECF6",
           "radialaxis": {
            "gridcolor": "white",
            "linecolor": "white",
            "ticks": ""
           }
          },
          "scene": {
           "xaxis": {
            "backgroundcolor": "#E5ECF6",
            "gridcolor": "white",
            "gridwidth": 2,
            "linecolor": "white",
            "showbackground": true,
            "ticks": "",
            "zerolinecolor": "white"
           },
           "yaxis": {
            "backgroundcolor": "#E5ECF6",
            "gridcolor": "white",
            "gridwidth": 2,
            "linecolor": "white",
            "showbackground": true,
            "ticks": "",
            "zerolinecolor": "white"
           },
           "zaxis": {
            "backgroundcolor": "#E5ECF6",
            "gridcolor": "white",
            "gridwidth": 2,
            "linecolor": "white",
            "showbackground": true,
            "ticks": "",
            "zerolinecolor": "white"
           }
          },
          "shapedefaults": {
           "line": {
            "color": "#2a3f5f"
           }
          },
          "ternary": {
           "aaxis": {
            "gridcolor": "white",
            "linecolor": "white",
            "ticks": ""
           },
           "baxis": {
            "gridcolor": "white",
            "linecolor": "white",
            "ticks": ""
           },
           "bgcolor": "#E5ECF6",
           "caxis": {
            "gridcolor": "white",
            "linecolor": "white",
            "ticks": ""
           }
          },
          "title": {
           "x": 0.05
          },
          "xaxis": {
           "automargin": true,
           "gridcolor": "white",
           "linecolor": "white",
           "ticks": "",
           "title": {
            "standoff": 15
           },
           "zerolinecolor": "white",
           "zerolinewidth": 2
          },
          "yaxis": {
           "automargin": true,
           "gridcolor": "white",
           "linecolor": "white",
           "ticks": "",
           "title": {
            "standoff": 15
           },
           "zerolinecolor": "white",
           "zerolinewidth": 2
          }
         }
        },
        "title": {
         "font": {
          "family": "Arial",
          "size": 24
         },
         "text": "<b>Pairwise Synergy Heatmap of HPO Features</b><br><span style='font-size:0.8em'>With respect to is_FBN1</span>",
         "x": 0.5,
         "xanchor": "center",
         "yanchor": "top"
        },
        "width": 1560,
        "xaxis": {
         "tickangle": 90,
         "tickfont": {
          "size": 10
         }
        },
        "yaxis": {
         "scaleanchor": "x",
         "scaleratio": 1,
         "tickfont": {
          "size": 10
         }
        }
       }
      }
     },
     "metadata": {},
     "output_type": "display_data"
    }
   ],
   "source": [
    "all_target=all_target_matrix['is_FBN1']\n",
    "all_synergy_analyzer=PairwiseSynergyAnalyzer(\n",
    "    hpo_data=(all_hpo_matrix_filtered,target_hpo_matrix[1]), \n",
    "    target=all_target,\n",
    "    n_permutations=1000,\n",
    "    min_individuals_for_synergy_caculation=40,\n",
    "    random_state=40,)\n",
    "all_synergy_analyzer.compute_synergy_matrix(n_jobs=32)\n",
    "all_synergy_analyzer.plot_synergy_heatmap(\n",
    "    lower_bound=0.05,\n",
    "    target_name=all_target.name)"
   ]
  }
 ],
 "metadata": {
  "kernelspec": {
   "display_name": "test2",
   "language": "python",
   "name": "python3"
  },
  "language_info": {
   "codemirror_mode": {
    "name": "ipython",
    "version": 3
   },
   "file_extension": ".py",
   "mimetype": "text/x-python",
   "name": "python",
   "nbconvert_exporter": "python",
   "pygments_lexer": "ipython3",
   "version": "3.10.18"
  }
 },
 "nbformat": 4,
 "nbformat_minor": 5
}
