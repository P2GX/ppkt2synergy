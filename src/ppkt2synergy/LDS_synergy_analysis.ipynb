{
 "cells": [
  {
   "cell_type": "code",
   "execution_count": null,
   "metadata": {},
   "outputs": [],
   "source": [
    "import pandas as pd\n",
    "from ppkt2synergy import (\n",
    "    load_hpo, CohortDataLoader, PhenopacketMatrixGenerator,\n",
    "    HPOMatrixProcessor, SynergyTreeBuilder, SynergyTreeVisualizer\n",
    ")\n",
    "from ppktstore.registry import configure_phenopacket_registry\n",
    "from gpsea.preprocessing import configure_caching_cohort_creator, load_phenopackets\n",
    "from gpsea.analysis.predicate import variant_effect\n",
    "from gpsea.analysis.clf import monoallelic_classifier\n",
    "from gpsea.model import VariantEffect\n",
    "import os\n",
    "from typing import List, Union\n",
    "\n",
    "def visualize_synergy_tree_for_variant_class(\n",
    "    gene_symbol: str,\n",
    "    mane_tx_id: str,\n",
    "    variant_effect_type: VariantEffect,\n",
    "    output_dir: str = \"synergy_tree/tree_image\",\n",
    "    max_k: int = 3,\n",
    "    nan_strategy: str= 'drop', \n",
    "    threshold: float = 0.7,\n",
    "    phenopacket_store_version: str = None,\n",
    "    title: str =None\n",
    "):\n",
    "    \"\"\"\n",
    "    Build and visualize a synergy tree for a given gene and VariantEffect.\n",
    "\n",
    "    Parameters:\n",
    "        gene_symbol(str): e.g., 'TGFB2'\n",
    "        mane_tx_id (str): e.g., 'NM_003238.6'\n",
    "        variant_effect_type (VariantEffect): e.g., VariantEffect.MISSENSE_VARIANT\n",
    "        output_dir (str): directory to store the output .pdf/.dot\n",
    "        max_k (int): maximum synergy size\n",
    "        threshold (float): HPO frequency threshold\n",
    "        phenopacket_store_version (str): e.g., '0.1.24'\n",
    "    \"\"\"\n",
    "\n",
    "    label = str(variant_effect_type)  # e.g. 'missense_variant'\n",
    "\n",
    "    # Load data\n",
    "    hp_path = os.path.join(\"..\",\"..\",\"tests\", \"data\", \"hp.json\")\n",
    "    hpo = load_hpo(file=hp_path)\n",
    "    phenopacket_registry = configure_phenopacket_registry()\n",
    "    with phenopacket_registry.open_phenopacket_store(phenopacket_store_version) as ps:\n",
    "        phenopackets=tuple(ps.iter_cohort_phenopackets(gene_symbol))\n",
    "    cohort_creator = configure_caching_cohort_creator(hpo)\n",
    "    cohort, _ = load_phenopackets(phenopackets=phenopackets, cohort_creator=cohort_creator)\n",
    "\n",
    "    # Create target matrix\n",
    "    predicate = variant_effect(variant_effect_type, tx_id=mane_tx_id)\n",
    "    clf = monoallelic_classifier(\n",
    "        a_predicate=predicate,\n",
    "        b_predicate=~predicate,\n",
    "        a_label=label,\n",
    "        b_label=\"other\"\n",
    "    )\n",
    "    variant_matrix = pd.DataFrame(\n",
    "        data=[1 if (cat := clf.test(p)) and cat.category.name == label else 0 for p in cohort],\n",
    "        index=[p.labels._meta_label for p in cohort],\n",
    "        columns=[label]\n",
    "    )\n",
    "\n",
    "    # Generate HPO matrix\n",
    "    dataloader = CohortDataLoader.from_ppkt_store(gene_symbol)\n",
    "    matrix_generator = PhenopacketMatrixGenerator(dataloader, external_target_matrix=variant_matrix)\n",
    "    hpo_matrix, target_matrix = HPOMatrixProcessor.filter_hpo_matrix(matrix_generator, threshold=threshold,nan_strategy=nan_strategy)\n",
    "\n",
    "    # Build and visualize tree\n",
    "    builder = SynergyTreeBuilder(hpo_matrix, target_matrix.iloc[:, 0], max_k=max_k)\n",
    "    \n",
    "    # Ensure output directory exists\n",
    "    os.makedirs(output_dir, exist_ok=True)\n",
    "    output_path = os.path.join(output_dir, f\"{title}_tree\")\n",
    "    \n",
    "    SynergyTreeVisualizer(builder.build()).visualize(title, filename=output_path)\n"
   ]
  },
  {
   "cell_type": "markdown",
   "metadata": {},
   "source": [
    "Loeys-Dietz syndrome-1 (LDS1)"
   ]
  },
  {
   "cell_type": "code",
   "execution_count": 41,
   "metadata": {},
   "outputs": [
    {
     "name": "stdout",
     "output_type": "stream",
     "text": [
      "Individuals Processed: 100%|██████████| 41/41 [00:00<00:00, 129.67 individuals/s]\n"
     ]
    },
    {
     "name": "stderr",
     "output_type": "stream",
     "text": [
      "Warning: Could not load \"D:\\miniconda\\envs\\mtenv\\Library\\bin\\gvplugin_pango.dll\" - It was found, so perhaps one of its dependents was not.  Try ldd.\n"
     ]
    }
   ],
   "source": [
    "visualize_synergy_tree_for_variant_class(gene_symbol='TGFBR1',mane_tx_id='NM_004612.4',variant_effect_type=VariantEffect.MISSENSE_VARIANT,threshold=0.75,title='TGFBR1_LDS1_missense_synergy')"
   ]
  },
  {
   "cell_type": "markdown",
   "metadata": {},
   "source": [
    "Loeys-Dietz syndrome-2 (LDS2)"
   ]
  },
  {
   "cell_type": "code",
   "execution_count": null,
   "metadata": {},
   "outputs": [],
   "source": [
    "visualize_synergy_tree_for_variant_class(gene_symbol='TGFBR2',mane_tx_id='NM_003242.6',variant_effect_type=VariantEffect.MISSENSE_VARIANT,threshold=0.6,title='TGFBR2_LDS2_missense_synergy')"
   ]
  },
  {
   "cell_type": "markdown",
   "metadata": {},
   "source": [
    "Loeys-Dietz syndrome-3 (LDS3)"
   ]
  },
  {
   "cell_type": "code",
   "execution_count": 4,
   "metadata": {},
   "outputs": [
    {
     "name": "stdout",
     "output_type": "stream",
     "text": [
      "Individuals Processed: 100%|██████████| 49/49 [00:00<00:00, 297.54 individuals/s]\n"
     ]
    },
    {
     "name": "stderr",
     "output_type": "stream",
     "text": [
      "Warning: Could not load \"D:\\miniconda\\envs\\mtenv\\Library\\bin\\gvplugin_pango.dll\" - It was found, so perhaps one of its dependents was not.  Try ldd.\n"
     ]
    }
   ],
   "source": [
    "visualize_synergy_tree_for_variant_class(gene_symbol='SMAD3',mane_tx_id='NM_005902.4',variant_effect_type=VariantEffect.MISSENSE_VARIANT,threshold=0.8,title='SMAD3_LDS3_missense_synergy')"
   ]
  },
  {
   "cell_type": "markdown",
   "metadata": {},
   "source": [
    "Loeys-Dietz syndrome-4 (LDS4)"
   ]
  },
  {
   "cell_type": "code",
   "execution_count": 6,
   "metadata": {},
   "outputs": [
    {
     "name": "stdout",
     "output_type": "stream",
     "text": [
      "Individuals Processed: 100%|██████████| 36/36 [00:01<00:00, 20.97 individuals/s]\n"
     ]
    },
    {
     "name": "stderr",
     "output_type": "stream",
     "text": [
      "Warning: Could not load \"D:\\miniconda\\envs\\mtenv\\Library\\bin\\gvplugin_pango.dll\" - It was found, so perhaps one of its dependents was not.  Try ldd.\n"
     ]
    }
   ],
   "source": [
    "visualize_synergy_tree_for_variant_class(gene_symbol='TGFB2',mane_tx_id='NM_003238.6',variant_effect_type=VariantEffect.MISSENSE_VARIANT,threshold=0.9,title='TGFB2_LDS4_missense_synergy')"
   ]
  },
  {
   "cell_type": "markdown",
   "metadata": {},
   "source": [
    "Loeys-Dietz syndrome 5 (LDS5)"
   ]
  },
  {
   "cell_type": "code",
   "execution_count": 25,
   "metadata": {},
   "outputs": [
    {
     "name": "stdout",
     "output_type": "stream",
     "text": [
      "Individuals Processed: 100%|██████████| 75/75 [00:00<00:00, 103.31 individuals/s]\n"
     ]
    },
    {
     "name": "stderr",
     "output_type": "stream",
     "text": [
      "Warning: Could not load \"D:\\miniconda\\envs\\mtenv\\Library\\bin\\gvplugin_pango.dll\" - It was found, so perhaps one of its dependents was not.  Try ldd.\n"
     ]
    }
   ],
   "source": [
    "visualize_synergy_tree_for_variant_class(gene_symbol='TGFB3',mane_tx_id='NM_003239.5',variant_effect_type=VariantEffect.MISSENSE_VARIANT,threshold=0.75,title='TGFB3_LDS5_missense_synergy')"
   ]
  },
  {
   "cell_type": "markdown",
   "metadata": {},
   "source": [
    "Loeys-Dietz syndrome 6 (LDS6)"
   ]
  },
  {
   "cell_type": "code",
   "execution_count": null,
   "metadata": {},
   "outputs": [],
   "source": [
    "visualize_synergy_tree_for_variant_class(gene_symbol='SMAD2',mane_tx_id='NM_005901.6',variant_effect_type=VariantEffect.MISSENSE_VARIANT,threshold=0.4,title='SMAD2_LDS6_missense_synergy')"
   ]
  },
  {
   "cell_type": "code",
   "execution_count": null,
   "metadata": {},
   "outputs": [],
   "source": [
    "phenopackets = CohortDataLoader.from_ppkt_store(['TGFBR1','TGFBR2','SMAD3','TGFB2','TGFB3','SMAD2'])\n",
    "matrix_gen = PhenopacketMatrixGenerator(phenopackets)\n",
    "hpo_matrix, target_matrix = HPOMatrixProcessor.filter_hpo_matrix(matrix_gen, threshold=0.5,nan_strategy='drop')"
   ]
  },
  {
   "cell_type": "code",
   "execution_count": null,
   "metadata": {},
   "outputs": [
    {
     "name": "stderr",
     "output_type": "stream",
     "text": [
      "Warning: Could not load \"D:\\miniconda\\envs\\mtenv\\Library\\bin\\gvplugin_pango.dll\" - It was found, so perhaps one of its dependents was not.  Try ldd.\n"
     ]
    }
   ],
   "source": [
    "phenopackets = CohortDataLoader.from_ppkt_store(['TGFBR1','TGFBR2','SMAD3','TGFB2','TGFB3','SMAD2'])\n",
    "matrix_gen = PhenopacketMatrixGenerator(phenopackets)\n",
    "hpo_matrix, target_matrix = HPOMatrixProcessor.filter_hpo_matrix(matrix_gen, threshold=0.5,nan_strategy='drop')"
   ]
  }
 ],
 "metadata": {
  "kernelspec": {
   "display_name": "mtenv",
   "language": "python",
   "name": "python3"
  },
  "language_info": {
   "codemirror_mode": {
    "name": "ipython",
    "version": 3
   },
   "file_extension": ".py",
   "mimetype": "text/x-python",
   "name": "python",
   "nbconvert_exporter": "python",
   "pygments_lexer": "ipython3",
   "version": "3.10.13"
  }
 },
 "nbformat": 4,
 "nbformat_minor": 2
}
